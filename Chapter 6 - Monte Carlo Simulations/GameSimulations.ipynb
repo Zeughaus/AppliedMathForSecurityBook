{
 "cells": [
  {
   "cell_type": "markdown",
   "metadata": {},
   "source": [
    "# Two-player Monte Carlo Game\n",
    "This notebook describes the code from the second half of chapter 6 in Applied Mathematics for Security. It uses the previously defined Monte Carlo Simulation to create a two player game representing an adversarial network scenario. The goal is to create a simulation which tests player two's ability to disrupt the network by removing communication edges.\n",
    "\n",
    "The first few cells hold the majority of the functions described in the text. I've copied the user_to_series function used in chapter 5. Some of the background functions reside in the graph_funcs.py file which gets imported as ext"
   ]
  },
  {
   "cell_type": "code",
   "execution_count": 1,
   "metadata": {},
   "outputs": [],
   "source": [
    "import json\n",
    "import networkx as nx\n",
    "from random import choice, random\n",
    "import pandas as pd\n",
    "import graph_funcs as ext\n",
    "import scipy.stats as stats\n",
    "import numpy as np\n",
    "from matplotlib import pyplot as plt\n",
    "\n",
    "def user_to_series(dict_obj):\n",
    "    \"\"\"Convert a nested JSON user to a flat pandas series\"\"\"\n",
    "    renamed = {}\n",
    "    for k in dict_obj.keys():\n",
    "        nk = \"user_%s\" % k\n",
    "        v = dict_obj[k]\n",
    "        renamed[nk] = v\n",
    "    ret = pd.Series(renamed)\n",
    "    return ret\n",
    "\n",
    "# I know there are better ways to do this but I was in a rush to get it done\n",
    "def add_reply_username(df):\n",
    "    out = []\n",
    "    for uid in list(df[\"in_reply_to_account_id\"].values):\n",
    "        if uid is None:\n",
    "            out.append(np.nan)\n",
    "            continue\n",
    "        user_name = df[df[\"user_id\"]==uid][\"user_screen_name\"].values[0]\n",
    "        out.append(user_name)\n",
    "    copy = df.copy()\n",
    "    copy[\"in_repy_to_screen_name\"] = out\n",
    "    return copy"
   ]
  },
  {
   "cell_type": "markdown",
   "metadata": {},
   "source": [
    "The ncap_weights function creates a weight list for the neighbors of a node in the graph based on their capacity to transmit the message. This is similar behavior to how packet switching networks decide what routes packets should traverse to reach their destination."
   ]
  },
  {
   "cell_type": "code",
   "execution_count": 2,
   "metadata": {},
   "outputs": [],
   "source": [
    "# From Listing 6-10\n",
    "def ncap_weights(G, u):\n",
    "    u_in = list(G.in_edges(u, data=True))\n",
    "    if len(u_in) < 1:\n",
    "        return (None, None)\n",
    "    n_capacity = {}\n",
    "    for v,u,d in u_in:\n",
    "        n_capacity[v] = d[\"capacity\"]\n",
    "    Q = 1 + max([itm[1] for itm in list(n_capacity.items())])\n",
    "    n_weight = {k: (Q - n_capacity[k]) for k in n_capacity.keys()}\n",
    "    return (n_capacity, n_weight)"
   ]
  },
  {
   "cell_type": "markdown",
   "metadata": {},
   "source": [
    "The wrs_connect and wrs_disconnect functions handle adding and removing selected edges as the network evolves over time."
   ]
  },
  {
   "cell_type": "code",
   "execution_count": 3,
   "metadata": {},
   "outputs": [],
   "source": [
    "# From Listing 6-9\n",
    "def wrs_connect(G, u):\n",
    "    scores = {}\n",
    "    for i in range(len(G.nodes.keys())):\n",
    "        v = list(G.nodes.keys())[i]\n",
    "        if v == u:\n",
    "            continue\n",
    "        dpa_score = G.out_degree(u) * G.in_degree(v)      \n",
    "        scores[v] = dpa_score\n",
    "    return ext.weighted_choice(scores)\n",
    "\n",
    "# From Listing 6-11\n",
    "def wrs_disconnect(G, u):\n",
    "    u_in = list(G.in_edges(u))\n",
    "    if len(u_in) < 1:\n",
    "        #print(\"%s has noone to disconnect\" % u)\n",
    "        return None\n",
    "    caps, scores = ncap_weights(G, u)\n",
    "    if scores is not None:\n",
    "        return ext.weighted_choice(scores)"
   ]
  },
  {
   "cell_type": "markdown",
   "metadata": {},
   "source": [
    "The shortest_path_scores function returns a list of average path lengths for all pairs of nodes which are not directly connected "
   ]
  },
  {
   "cell_type": "code",
   "execution_count": 4,
   "metadata": {},
   "outputs": [],
   "source": [
    "# From Listing 6-14\n",
    "def shortest_path_scores(G):\n",
    "    pairs = []\n",
    "    for u, v in nx.non_edges(G):\n",
    "        if u == v:\n",
    "            continue\n",
    "        if not nx.has_path(G, u, v):\n",
    "            continue\n",
    "        uv_paths = list(nx.all_shortest_paths(G, u, v))\n",
    "        avg_len = sum([len(p) for p in uv_paths]) / len(uv_paths)\n",
    "        pairs.append(((u, v), len(uv_paths), avg_len))\n",
    "        #print(((u, v), len(uv_paths), avg_len))\n",
    "    sorted_scores = sorted(\n",
    "        pairs,\n",
    "        key=lambda kv: (kv[2], kv[1], kv[0]),\n",
    "        reverse=True\n",
    "    )\n",
    "    return sorted_scores"
   ]
  },
  {
   "cell_type": "markdown",
   "metadata": {},
   "source": [
    "Finally the check_win function runs at the end of each player's turn to see if they were able to put the network in a terminal state. if the message has not reached the sink node and there is no path between the current locate and the destination, then player two wins. If the message reaches the destination node then Player one wins. The win function is known as 0-sum because we score one player with +1 and the other player with -1, and when you add those together, you get 0."
   ]
  },
  {
   "cell_type": "code",
   "execution_count": 5,
   "metadata": {},
   "outputs": [],
   "source": [
    "# From Listing 6-6\n",
    "def check_win(G, uq, omega):\n",
    "    if uq != omega and nx.has_path(G, uq, omega):\n",
    "        return None\n",
    "    elif uq == omega:\n",
    "        return 1\n",
    "    elif not nx.has_path(G, uq, omega):\n",
    "        return -1"
   ]
  },
  {
   "cell_type": "markdown",
   "metadata": {},
   "source": [
    "The next cell wraps the code from listing 6-15 in a convenient function definition which can be called in a loop to rerun the simulation multiple times or with varying parameters"
   ]
  },
  {
   "cell_type": "code",
   "execution_count": 6,
   "metadata": {},
   "outputs": [],
   "source": [
    "# From Listing 6-15\n",
    "def simulate(G,num_samples=25,num_sims=25,num_steps=10, rand_player=True):\n",
    "    path_scores = shortest_path_scores(G)\n",
    "    path_weights = {(p[0][0], p[0][1]): p[2] for p in path_scores}\n",
    "    played = []\n",
    "    pop_avgs = []\n",
    "    for r in range(num_samples):\n",
    "        selected = ext.weighted_choice(path_weights)\n",
    "        while selected in played:\n",
    "            # pick a different pair of nodes\n",
    "            selected = ext.weighted_choice(path_weights)\n",
    "        played.append(selected)\n",
    "        #print(selected, path_weights[selected])\n",
    "        alpha = selected[0] # Starting Node\n",
    "        omega = selected[1] # Goal Node\n",
    "        game_res = [] # Holds the result of each simulation\n",
    "        for i in range(num_sims):\n",
    "            newG = G.copy() # Copy the base graph for a new game\n",
    "            now_at = alpha\n",
    "            for j in range(num_steps):\n",
    "                w = check_win(newG, now_at, omega)\n",
    "                if w is not None:\n",
    "                    game_res.append(w)\n",
    "                    break\n",
    "                now_at, newG = player_one_turn(newG, now_at, omega)\n",
    "                if not check_win(newG, now_at, omega):\n",
    "                    if rand_player:\n",
    "                        newG = player_two_random(newG)\n",
    "                    else:\n",
    "                        newG = player_two_turn(newG, now_at, omega)\n",
    "        tally = sum(game_res)\n",
    "        avg = tally / len(game_res)\n",
    "        pop_avgs.append(float(avg))\n",
    "        print(f\"Sample {r}: Average {avg}\")\n",
    "    return pop_avgs"
   ]
  },
  {
   "cell_type": "markdown",
   "metadata": {},
   "source": [
    "# Player One function\n",
    "The code for player one handles evolving the network over time. On each turn player one iterates over every member of the network deciding if they create a new connection, pass, or disconnect from someone in the network. in this way player 1 acts as the natural evolution of the network and doesn't really get to interfere with player two."
   ]
  },
  {
   "cell_type": "code",
   "execution_count": 7,
   "metadata": {},
   "outputs": [],
   "source": [
    "# From Listing 6-12\n",
    "def player_one_turn(G, uq, omega):\n",
    "    if G.has_edge(uq, omega):\n",
    "        #print(\"goal node in edges\")\n",
    "        return (omega, G)\n",
    "    caps = [d[\"capacity\"] for u,v,d in G.edges(data=True)]\n",
    "    avg_cap = sum(caps) / len(caps)\n",
    "    \n",
    "    for u in list(G.nodes.keys()):\n",
    "        if u == uq:\n",
    "            try:\n",
    "                paths = list(nx.all_shortest_paths(G, u, omega))                \n",
    "            except nx.exception.NetworkXNoPath:\n",
    "                #print(\"No path between %s and %s\" % (uq, omega))\n",
    "                return (uq, G)\n",
    "            path = choice(paths)\n",
    "            #print(\"path to goal\", path)\n",
    "            pass_to = path[1]\n",
    "        else:\n",
    "            act = ext.weighted_choice(XI)\n",
    "            if act == \"pass\":\n",
    "                continue\n",
    "            elif act == \"connect\":\n",
    "                v_conn = wrs_connect(G, u)\n",
    "                #print(\"connecting %s to %s\" % (u, v_conn))\n",
    "                G.add_edge(u, v_conn, capacity=avg_cap)\n",
    "            else:\n",
    "                v_disconn = wrs_disconnect(G, u)\n",
    "                if v_disconn is None:\n",
    "                    continue\n",
    "                #print(\"%s disconnecting from\" % u, v_disconn)\n",
    "                G.remove_edge(v_disconn, u)\n",
    "    return (pass_to, G)"
   ]
  },
  {
   "cell_type": "markdown",
   "metadata": {},
   "source": [
    "# Player Two functions\n",
    "There are two versions of player two. The first is an random player two which randomly chooses an edge to remove from G without any contextual information. We attempt to improve the performance of the player by adding information related to the cut set theorem described in the chapter."
   ]
  },
  {
   "cell_type": "code",
   "execution_count": 8,
   "metadata": {},
   "outputs": [],
   "source": [
    "# From Listing 6-13\n",
    "def player_two_random(G):\n",
    "    e = choice(list(G.edges()))\n",
    "    G.remove_edge(*e)\n",
    "    return G\n",
    "    \n",
    "# From Listing 6-16\n",
    "def player_two_turn(G, uq, omega):\n",
    "    cut_value, partition = nx.minimum_cut(G, uq, omega)\n",
    "    reachable, unreachable = partition\n",
    "    cutset = set()\n",
    "    for u, nbrs in ((n, G[n]) for n in reachable):\n",
    "        cutset.update((u, v) for v in nbrs if v in unreachable)\n",
    "    caps, scores = ncap_weights(G, omega)\n",
    "    if len(cutset) >= 2:\n",
    "        cut = choice(list(cutset))\n",
    "        G.remove_edge(*cut)\n",
    "    elif len(cutset) == 1:\n",
    "        #print(\"Single cut to disconnect %s from %s\" % (uq, omega))\n",
    "        cut = list(cutset)[0]\n",
    "        G.remove_edge(*cut)\n",
    "    return G"
   ]
  },
  {
   "cell_type": "markdown",
   "metadata": {},
   "source": [
    "# Configuring the simulation\n",
    "The variables in the next cell control the transition weights in XI as well as the number of steps, simulations and retests you'd like to run. These are the variables you may want to play with.\n",
    "I've added the retests variable to replace the magic number in the text."
   ]
  },
  {
   "cell_type": "code",
   "execution_count": 9,
   "metadata": {},
   "outputs": [],
   "source": [
    "# Transition weights. The key space for connect and pass will each be 2/5 and disconnect will be 1/5\n",
    "XI = {\n",
    "    \"connect\": 2,\n",
    "    \"disconnect\": 1,\n",
    "    \"pass\": 2\n",
    "}\n",
    "\n",
    "retests = 25 # number of times to resample the simulation to create the test population\n",
    "k = 10 # number of simulations per game\n",
    "n = 10 # number of steps per simulation\n",
    "confidence_in_mean = 0.95 # Confidence to use when predicting the population mean\n",
    "confidence_in_conclusion = 0.99 # Confidence level used to reject the null hypothesis\n",
    "################################################"
   ]
  },
  {
   "cell_type": "markdown",
   "metadata": {},
   "source": [
    "# Running the Simulations\n",
    "\n",
    "We begin by loading the source data. This is the same as in the previous chapter. We load the tweet data from JSON objects, and convert them into a Pandas DataFrame which we then use to create the graph object's nodes and edges."
   ]
  },
  {
   "cell_type": "code",
   "execution_count": 10,
   "metadata": {},
   "outputs": [],
   "source": [
    "############### Build the network Graph ###############\n",
    "G = nx.DiGraph()\n",
    "\n",
    "# process the toot data to create the network\n",
    "series_data = [] # 1 JSON object per toot object\n",
    "with open(\"fake_toots.json\") as data:\n",
    "    text = data.read().strip()\n",
    "    rows = text.split(\"\\n\")  # JSON objects stored as list of strings\n",
    "for row in rows:\n",
    "    obj = json.loads(row) # Converted row string to JSON object\n",
    "    series_data.append(obj) # Add to JSON list\n",
    "\n",
    "toot_df = pd.DataFrame(series_data) # 1 row per JSON obj\n",
    "toot_df = pd.concat([toot_df, toot_df['account'].apply(user_to_series)], axis=1)\n",
    "toot_df = add_reply_username(toot_df)\n",
    "# Now the data is flattened. We remove the field containing the JSON object\n",
    "toot_df.drop(\"account\", axis=1, inplace=True)\n",
    "toot_df.dropna(axis=0, inplace=True)\n",
    "toot_df[\"in_reply_to_id\"] = toot_df[\"in_reply_to_id\"].astype(int)\n",
    "toot_df[\"in_reply_to_user_id\"] = toot_df[\"in_reply_to_user_id\"].astype(int)\n",
    "toot_df[\"user_id\"] = toot_df[\"user_id\"].astype(int)\n",
    "\n",
    "for idx in toot_df.index:\n",
    "    row = toot_df.loc[idx]\n",
    "    u = row[\"in_reply_to_screen_name\"]\n",
    "    v = row[\"user_screen_name\"]\n",
    "    w = len(row[\"text\"])\n",
    "    if G.has_edge(u,v):\n",
    "        G[u][v][\"capacity\"] += w\n",
    "    else:\n",
    "        G.add_edge(u, v, capacity=w)"
   ]
  },
  {
   "cell_type": "markdown",
   "metadata": {},
   "source": [
    "With the graph built and the simulation parameters defined we can start to run the code and collect data. First we need to establish a baseline performance to score against using a \"dumb\" player who selects random moves. The next cell uses the simulate function to run the Monte Carlo simulation the number of times defined in the retests variable. Each test will be composed of k walks of length n (or less if a terminal state is reached). We then use the sample mean from each retest to derive a confidence interval for the population mean."
   ]
  },
  {
   "cell_type": "code",
   "execution_count": 11,
   "metadata": {},
   "outputs": [
    {
     "name": "stdout",
     "output_type": "stream",
     "text": [
      "Testing Random Player 2 strategy:\n",
      "Sample 0: Average 0.0\n",
      "Sample 1: Average 0.6\n",
      "Sample 2: Average 0.2\n",
      "Sample 3: Average -0.4\n",
      "Sample 4: Average 0.0\n",
      "Sample 5: Average 0.5555555555555556\n",
      "Sample 6: Average 0.8\n",
      "Sample 7: Average 0.0\n",
      "Sample 8: Average 0.6\n",
      "Sample 9: Average -0.6\n",
      "Sample 10: Average 0.4\n",
      "Sample 11: Average 0.2\n",
      "Sample 12: Average 0.2\n",
      "Sample 13: Average -0.8\n",
      "Sample 14: Average 0.2\n",
      "Sample 15: Average 0.2\n",
      "Sample 16: Average 0.8\n",
      "Sample 17: Average -0.4\n",
      "Sample 18: Average -0.4\n",
      "Sample 19: Average -0.2\n",
      "Sample 20: Average 0.2\n",
      "Sample 21: Average 0.0\n",
      "Sample 22: Average 0.2\n",
      "Sample 23: Average -0.6\n",
      "Sample 24: Average -0.8\n",
      "Random Player 2 Population Average 0.03822222222222222\n",
      "Random Player 2 Interval (-0.1545087489152458, 0.23095319335969022)\n"
     ]
    }
   ],
   "source": [
    "############### Begin Running the simulations ###############\n",
    "# Create the base line with the random player\n",
    "print(\"Testing Random Player 2 strategy:\")\n",
    "rand_p2_avgs = simulate(G,num_samples=retests,num_sims=k,num_steps=n, rand_player=True)\n",
    "rand_p2_pop_avg = np.mean(rand_p2_avgs)\n",
    "print(f\"Random Player 2 Population Average {rand_p2_pop_avg}\")\n",
    "#create confidence interval for random player 2 population mean\n",
    "rand_p2_pop_interval = stats.t.interval(\n",
    "    alpha=confidence_in_mean,\n",
    "    df=len(rand_p2_avgs)-1,\n",
    "    loc=np.mean(rand_p2_avgs),\n",
    "    scale=stats.sem(rand_p2_avgs)\n",
    ")\n",
    "print(f\"Random Player 2 Interval {rand_p2_pop_interval}\")"
   ]
  },
  {
   "cell_type": "markdown",
   "metadata": {},
   "source": [
    "# Improved Player Two\n",
    "We can now rerun the simulation with a more intelligent version of player two. Sending rand_player=False to the simulate function will change the underlying logic for player two from the player_two_random function to the player_two_turn function which contains the logic described in the text."
   ]
  },
  {
   "cell_type": "code",
   "execution_count": 12,
   "metadata": {},
   "outputs": [
    {
     "name": "stdout",
     "output_type": "stream",
     "text": [
      "Testing Smarter Player 2 strategy:\n",
      "Sample 0: Average -0.6\n",
      "Sample 1: Average -1.0\n",
      "Sample 2: Average -1.0\n",
      "Sample 3: Average -1.0\n",
      "Sample 4: Average -1.0\n",
      "Sample 5: Average -1.0\n",
      "Sample 6: Average -0.8\n",
      "Sample 7: Average -1.0\n",
      "Sample 8: Average -1.0\n",
      "Sample 9: Average -1.0\n",
      "Sample 10: Average -1.0\n",
      "Sample 11: Average -0.8\n",
      "Sample 12: Average -0.2\n",
      "Sample 13: Average -1.0\n",
      "Sample 14: Average -1.0\n",
      "Sample 15: Average -0.8\n",
      "Sample 16: Average -0.2\n",
      "Sample 17: Average -1.0\n",
      "Sample 18: Average -0.2\n",
      "Sample 19: Average -1.0\n",
      "Sample 20: Average -1.0\n",
      "Sample 21: Average -1.0\n",
      "Sample 22: Average -0.6\n",
      "Sample 23: Average -1.0\n",
      "Sample 24: Average -1.0\n",
      "Smart Player 2 Population Average -0.848\n",
      "Smart Player 2 Interval (-0.9604903608525566, -0.7355096391474434)\n"
     ]
    }
   ],
   "source": [
    "# Create the improved player's data\n",
    "print(\"Testing Smarter Player 2 strategy:\")\n",
    "smart_p2_avgs = simulate(G,num_samples=retests,num_sims=k,num_steps=n, rand_player=False)\n",
    "smart_p2_pop_avg = np.mean(smart_p2_avgs)\n",
    "print(f\"Smart Player 2 Population Average {smart_p2_pop_avg}\")\n",
    "#create confidence interval for smart player 2 population mean\n",
    "smart_p2_pop_interval = stats.t.interval(\n",
    "    alpha=confidence_in_mean,\n",
    "    df=len(smart_p2_avgs)-1,\n",
    "    loc=np.mean(smart_p2_avgs),\n",
    "    scale=stats.sem(smart_p2_avgs)\n",
    ")\n",
    "print(f\"Smart Player 2 Interval {smart_p2_pop_interval}\")"
   ]
  },
  {
   "cell_type": "markdown",
   "metadata": {},
   "source": [
    "We can now compare the two population samples using a one tailed T-Test. our hypothesis is that the change to player two's strategy will create an increase in the likelihood they will win the game. We would see this as a marked decrease in the populating score mean. The null hypothesis is therefore that the improved player two will not create a significantly lower population score than the random player. "
   ]
  },
  {
   "cell_type": "code",
   "execution_count": 13,
   "metadata": {},
   "outputs": [
    {
     "name": "stdout",
     "output_type": "stream",
     "text": [
      "We can reject the null hypothesis. The two samples are significantly different\n"
     ]
    }
   ],
   "source": [
    "# Run the one-tailed T-Test. We are asserting the random player's mean \n",
    "# will be strictly greater than the mean of the improved player's\n",
    "ttest_score = abs(stats.ttest_ind(rand_p2_avgs, smart_p2_avgs, alternative='greater').pvalue)\n",
    "thresh = 1-confidence_in_conclusion\n",
    "if thresh < ttest_score:\n",
    "    print(\"We cannot reject the null hypothesis. No significant difference detected.\")\n",
    "else:\n",
    "    print(\"We can reject the null hypothesis. The two samples are significantly different\")"
   ]
  },
  {
   "cell_type": "markdown",
   "metadata": {},
   "source": [
    "We can also visualize the change in population means by plotting their distribution curves. The next cell creates two normal distribution curves based on the statistics gathered for both the random and improved players and plots them together."
   ]
  },
  {
   "cell_type": "code",
   "execution_count": 14,
   "metadata": {},
   "outputs": [
    {
     "data": {
      "image/png": "[encoded data removed]",
      "text/plain": [
       "<Figure size 432x288 with 1 Axes>"
      ]
     },
     "metadata": {
      "needs_background": "light"
     },
     "output_type": "display_data"
    }
   ],
   "source": [
    "xmin = -1 # no game can score lower than -1\n",
    "xmax = 1 # no game can score higher than +1\n",
    "X1 = stats.norm(np.mean(rand_p2_avgs), np.std(rand_p2_avgs)) # Random Player normal distribution\n",
    "xs1 = np.linspace(xmin,xmax,50)  # create 100 x values in that range\n",
    "plt.plot(xs1,X1.pdf(xs1), \"--.\", alpha=0.33) # plot the shape of the distribution\n",
    "\n",
    "X2 = stats.norm(np.mean(smart_p2_avgs), np.std(smart_p2_avgs)) # Smart Player normal distribution\n",
    "xs2 = np.linspace(xmin,xmax,100)  # create 100 x values in that range\n",
    "plt.plot(xs2,X2.pdf(xs2)) # plot the shape of the distribution\n",
    "plt.legend([\"Random Player\", \"Smart Player\"])\n",
    "plt.yticks([])\n",
    "plt.ylabel(\"Likelihood\")\n",
    "plt.xlabel(\"Population Result\")\n",
    "plt.title(\"Simulation Score Distribution\")\n",
    "#plt.savefig(\"Figure_6-4.png\")\n",
    "#plt.savefig(\"Figure_6-4.svg\", format=\"svg\")\n",
    "plt.show()"
   ]
  }
 ],
 "metadata": {
  "hide_input": false,
  "kernelspec": {
   "display_name": "Python 3",
   "language": "python",
   "name": "python3"
  },
  "language_info": {
   "codemirror_mode": {
    "name": "ipython",
    "version": 3
   },
   "file_extension": ".py",
   "mimetype": "text/x-python",
   "name": "python",
   "nbconvert_exporter": "python",
   "pygments_lexer": "ipython3",
   "version": "3.8.5"
  }
 },
 "nbformat": 4,
 "nbformat_minor": 5
}
