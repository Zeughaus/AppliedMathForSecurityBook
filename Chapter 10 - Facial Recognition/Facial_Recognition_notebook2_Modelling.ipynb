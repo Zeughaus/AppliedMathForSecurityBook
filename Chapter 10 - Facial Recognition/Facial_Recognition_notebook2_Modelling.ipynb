{
 "cells": [
  {
   "cell_type": "markdown",
   "metadata": {
    "hideCode": false,
    "hidePrompt": false
   },
   "source": [
    "# Facial Recognition 2: Modeling\n",
    "This notebook accompanies the book \"Programming Applied mathematics for Security\" chapter 15: Facial recognition. The code in the cells was used to generate the figures for the second portion of the PoC (see the text for details). This notebook was the development ground for the second portion of the PoC so most of the functions remain unchanged between the two\n"
   ]
  },
  {
   "cell_type": "code",
   "execution_count": 4,
   "metadata": {
    "hideCode": false,
    "hidePrompt": false
   },
   "outputs": [],
   "source": [
    "# -*- coding: utf-8 -*-\n",
    "%matplotlib inline\n",
    "from matplotlib import pyplot as plt\n",
    "import seaborn as sns\n",
    "import numpy as np\n",
    "import pandas as pd\n",
    "from nominal import associations, correlation_ratio\n",
    "from random import choice, sample, randint\n",
    "from sklearn.dummy import DummyClassifier\n",
    "from sklearn.tree import DecisionTreeClassifier\n",
    "from sklearn.ensemble import RandomForestClassifier\n",
    "from sklearn.feature_selection import mutual_info_classif\n",
    "from sklearn.model_selection import cross_val_score\n",
    "from sklearn.model_selection import LeaveOneOut\n",
    "import math\n",
    "from sklearn.model_selection import train_test_split"
   ]
  },
  {
   "cell_type": "markdown",
   "metadata": {
    "hideCode": false,
    "hidePrompt": false
   },
   "source": [
    "Loading the data file from the first portion of the PoC is easy because we saved it in CSV format which can be read directly into a Pandas DataFrame. Working from a DataFrame object isn't strictly necessary, but doing so will make the rest of the modeling tasks much easier. \n",
    "\n",
    "It's always a good idea to clean up any unused fields, remove null values using dropna, and then view the basic statistics about the data using the info function."
   ]
  },
  {
   "cell_type": "code",
   "execution_count": 8,
   "metadata": {
    "hideCode": false,
    "hidePrompt": false
   },
   "outputs": [
    {
     "data": {
      "text/html": [
       "<div>\n",
       "<style scoped>\n",
       "    .dataframe tbody tr th:only-of-type {\n",
       "        vertical-align: middle;\n",
       "    }\n",
       "\n",
       "    .dataframe tbody tr th {\n",
       "        vertical-align: top;\n",
       "    }\n",
       "\n",
       "    .dataframe thead th {\n",
       "        text-align: right;\n",
       "    }\n",
       "</style>\n",
       "<table border=\"1\" class=\"dataframe\">\n",
       "  <thead>\n",
       "    <tr style=\"text-align: right;\">\n",
       "      <th></th>\n",
       "      <th>Unnamed: 0</th>\n",
       "      <th>name</th>\n",
       "      <th>outter_eyes</th>\n",
       "      <th>inner_eyes</th>\n",
       "      <th>right_eye_horz</th>\n",
       "      <th>right_eye_vert</th>\n",
       "      <th>right_ic_nose_top</th>\n",
       "      <th>right_ic_nose_btm</th>\n",
       "      <th>right_oc_nose_btm</th>\n",
       "      <th>left_eye_horz</th>\n",
       "      <th>...</th>\n",
       "      <th>jaw_13_x</th>\n",
       "      <th>jaw_13_y</th>\n",
       "      <th>jaw_14_x</th>\n",
       "      <th>jaw_14_y</th>\n",
       "      <th>jaw_15_x</th>\n",
       "      <th>jaw_15_y</th>\n",
       "      <th>jaw_16_x</th>\n",
       "      <th>jaw_16_y</th>\n",
       "      <th>jaw_17_x</th>\n",
       "      <th>jaw_17_y</th>\n",
       "    </tr>\n",
       "  </thead>\n",
       "  <tbody>\n",
       "    <tr>\n",
       "      <th>0</th>\n",
       "      <td>0</td>\n",
       "      <td>Kevin_Parker</td>\n",
       "      <td>114.271606</td>\n",
       "      <td>50.635956</td>\n",
       "      <td>31.144823</td>\n",
       "      <td>9.055385</td>\n",
       "      <td>24.596748</td>\n",
       "      <td>40.459857</td>\n",
       "      <td>63.505905</td>\n",
       "      <td>32.557641</td>\n",
       "      <td>...</td>\n",
       "      <td>241</td>\n",
       "      <td>242</td>\n",
       "      <td>251</td>\n",
       "      <td>216</td>\n",
       "      <td>253</td>\n",
       "      <td>188</td>\n",
       "      <td>252</td>\n",
       "      <td>160</td>\n",
       "      <td>250</td>\n",
       "      <td>132</td>\n",
       "    </tr>\n",
       "    <tr>\n",
       "      <th>1</th>\n",
       "      <td>1</td>\n",
       "      <td>Kevin_Parker</td>\n",
       "      <td>118.511603</td>\n",
       "      <td>51.244512</td>\n",
       "      <td>32.249031</td>\n",
       "      <td>9.055385</td>\n",
       "      <td>24.413111</td>\n",
       "      <td>26.870058</td>\n",
       "      <td>53.160135</td>\n",
       "      <td>35.057096</td>\n",
       "      <td>...</td>\n",
       "      <td>246</td>\n",
       "      <td>242</td>\n",
       "      <td>258</td>\n",
       "      <td>220</td>\n",
       "      <td>263</td>\n",
       "      <td>194</td>\n",
       "      <td>265</td>\n",
       "      <td>168</td>\n",
       "      <td>266</td>\n",
       "      <td>141</td>\n",
       "    </tr>\n",
       "    <tr>\n",
       "      <th>2</th>\n",
       "      <td>2</td>\n",
       "      <td>Kevin_Parker</td>\n",
       "      <td>115.572488</td>\n",
       "      <td>49.819675</td>\n",
       "      <td>31.575307</td>\n",
       "      <td>9.219544</td>\n",
       "      <td>24.186773</td>\n",
       "      <td>39.051248</td>\n",
       "      <td>60.926185</td>\n",
       "      <td>34.234486</td>\n",
       "      <td>...</td>\n",
       "      <td>242</td>\n",
       "      <td>245</td>\n",
       "      <td>251</td>\n",
       "      <td>220</td>\n",
       "      <td>254</td>\n",
       "      <td>192</td>\n",
       "      <td>254</td>\n",
       "      <td>164</td>\n",
       "      <td>251</td>\n",
       "      <td>136</td>\n",
       "    </tr>\n",
       "    <tr>\n",
       "      <th>3</th>\n",
       "      <td>3</td>\n",
       "      <td>Kevin_Parker</td>\n",
       "      <td>116.103402</td>\n",
       "      <td>52.773099</td>\n",
       "      <td>31.048349</td>\n",
       "      <td>8.246211</td>\n",
       "      <td>23.706539</td>\n",
       "      <td>41.400483</td>\n",
       "      <td>60.415230</td>\n",
       "      <td>32.388269</td>\n",
       "      <td>...</td>\n",
       "      <td>238</td>\n",
       "      <td>232</td>\n",
       "      <td>244</td>\n",
       "      <td>207</td>\n",
       "      <td>245</td>\n",
       "      <td>180</td>\n",
       "      <td>244</td>\n",
       "      <td>155</td>\n",
       "      <td>243</td>\n",
       "      <td>129</td>\n",
       "    </tr>\n",
       "    <tr>\n",
       "      <th>4</th>\n",
       "      <td>4</td>\n",
       "      <td>Kevin_Parker</td>\n",
       "      <td>113.951744</td>\n",
       "      <td>49.819675</td>\n",
       "      <td>31.575307</td>\n",
       "      <td>10.198039</td>\n",
       "      <td>23.706539</td>\n",
       "      <td>40.607881</td>\n",
       "      <td>61.741396</td>\n",
       "      <td>32.557641</td>\n",
       "      <td>...</td>\n",
       "      <td>238</td>\n",
       "      <td>238</td>\n",
       "      <td>249</td>\n",
       "      <td>213</td>\n",
       "      <td>251</td>\n",
       "      <td>185</td>\n",
       "      <td>250</td>\n",
       "      <td>157</td>\n",
       "      <td>248</td>\n",
       "      <td>130</td>\n",
       "    </tr>\n",
       "    <tr>\n",
       "      <th>...</th>\n",
       "      <td>...</td>\n",
       "      <td>...</td>\n",
       "      <td>...</td>\n",
       "      <td>...</td>\n",
       "      <td>...</td>\n",
       "      <td>...</td>\n",
       "      <td>...</td>\n",
       "      <td>...</td>\n",
       "      <td>...</td>\n",
       "      <td>...</td>\n",
       "      <td>...</td>\n",
       "      <td>...</td>\n",
       "      <td>...</td>\n",
       "      <td>...</td>\n",
       "      <td>...</td>\n",
       "      <td>...</td>\n",
       "      <td>...</td>\n",
       "      <td>...</td>\n",
       "      <td>...</td>\n",
       "      <td>...</td>\n",
       "      <td>...</td>\n",
       "    </tr>\n",
       "    <tr>\n",
       "      <th>4103</th>\n",
       "      <td>4103</td>\n",
       "      <td>Joshua_Goodman</td>\n",
       "      <td>102.107786</td>\n",
       "      <td>43.566042</td>\n",
       "      <td>28.071338</td>\n",
       "      <td>11.045361</td>\n",
       "      <td>17.204651</td>\n",
       "      <td>43.081318</td>\n",
       "      <td>58.137767</td>\n",
       "      <td>30.594117</td>\n",
       "      <td>...</td>\n",
       "      <td>243</td>\n",
       "      <td>274</td>\n",
       "      <td>249</td>\n",
       "      <td>252</td>\n",
       "      <td>250</td>\n",
       "      <td>228</td>\n",
       "      <td>249</td>\n",
       "      <td>204</td>\n",
       "      <td>247</td>\n",
       "      <td>180</td>\n",
       "    </tr>\n",
       "    <tr>\n",
       "      <th>4104</th>\n",
       "      <td>4104</td>\n",
       "      <td>Joshua_Goodman</td>\n",
       "      <td>67.896981</td>\n",
       "      <td>28.284271</td>\n",
       "      <td>19.416488</td>\n",
       "      <td>7.071068</td>\n",
       "      <td>12.529964</td>\n",
       "      <td>29.966648</td>\n",
       "      <td>39.408121</td>\n",
       "      <td>20.223748</td>\n",
       "      <td>...</td>\n",
       "      <td>197</td>\n",
       "      <td>200</td>\n",
       "      <td>199</td>\n",
       "      <td>186</td>\n",
       "      <td>200</td>\n",
       "      <td>171</td>\n",
       "      <td>200</td>\n",
       "      <td>156</td>\n",
       "      <td>199</td>\n",
       "      <td>141</td>\n",
       "    </tr>\n",
       "    <tr>\n",
       "      <th>4105</th>\n",
       "      <td>4105</td>\n",
       "      <td>Joshua_Goodman</td>\n",
       "      <td>100.841460</td>\n",
       "      <td>42.426407</td>\n",
       "      <td>28.284271</td>\n",
       "      <td>10.049876</td>\n",
       "      <td>17.204651</td>\n",
       "      <td>40.853396</td>\n",
       "      <td>54.817880</td>\n",
       "      <td>30.149627</td>\n",
       "      <td>...</td>\n",
       "      <td>228</td>\n",
       "      <td>255</td>\n",
       "      <td>234</td>\n",
       "      <td>234</td>\n",
       "      <td>236</td>\n",
       "      <td>212</td>\n",
       "      <td>235</td>\n",
       "      <td>189</td>\n",
       "      <td>234</td>\n",
       "      <td>166</td>\n",
       "    </tr>\n",
       "    <tr>\n",
       "      <th>4106</th>\n",
       "      <td>4106</td>\n",
       "      <td>Joshua_Goodman</td>\n",
       "      <td>98.655968</td>\n",
       "      <td>40.792156</td>\n",
       "      <td>28.284271</td>\n",
       "      <td>10.198039</td>\n",
       "      <td>17.888544</td>\n",
       "      <td>41.593269</td>\n",
       "      <td>57.428216</td>\n",
       "      <td>29.614186</td>\n",
       "      <td>...</td>\n",
       "      <td>149</td>\n",
       "      <td>255</td>\n",
       "      <td>155</td>\n",
       "      <td>235</td>\n",
       "      <td>157</td>\n",
       "      <td>215</td>\n",
       "      <td>156</td>\n",
       "      <td>194</td>\n",
       "      <td>154</td>\n",
       "      <td>173</td>\n",
       "    </tr>\n",
       "    <tr>\n",
       "      <th>4107</th>\n",
       "      <td>4107</td>\n",
       "      <td>Joshua_Goodman</td>\n",
       "      <td>103.696673</td>\n",
       "      <td>42.296572</td>\n",
       "      <td>31.064449</td>\n",
       "      <td>11.045361</td>\n",
       "      <td>21.189620</td>\n",
       "      <td>44.944410</td>\n",
       "      <td>65.734314</td>\n",
       "      <td>30.413813</td>\n",
       "      <td>...</td>\n",
       "      <td>166</td>\n",
       "      <td>273</td>\n",
       "      <td>172</td>\n",
       "      <td>253</td>\n",
       "      <td>174</td>\n",
       "      <td>231</td>\n",
       "      <td>173</td>\n",
       "      <td>209</td>\n",
       "      <td>171</td>\n",
       "      <td>187</td>\n",
       "    </tr>\n",
       "  </tbody>\n",
       "</table>\n",
       "<p>4108 rows × 217 columns</p>\n",
       "</div>"
      ],
      "text/plain": [
       "      Unnamed: 0            name  outter_eyes  inner_eyes  right_eye_horz  \\\n",
       "0              0    Kevin_Parker   114.271606   50.635956       31.144823   \n",
       "1              1    Kevin_Parker   118.511603   51.244512       32.249031   \n",
       "2              2    Kevin_Parker   115.572488   49.819675       31.575307   \n",
       "3              3    Kevin_Parker   116.103402   52.773099       31.048349   \n",
       "4              4    Kevin_Parker   113.951744   49.819675       31.575307   \n",
       "...          ...             ...          ...         ...             ...   \n",
       "4103        4103  Joshua_Goodman   102.107786   43.566042       28.071338   \n",
       "4104        4104  Joshua_Goodman    67.896981   28.284271       19.416488   \n",
       "4105        4105  Joshua_Goodman   100.841460   42.426407       28.284271   \n",
       "4106        4106  Joshua_Goodman    98.655968   40.792156       28.284271   \n",
       "4107        4107  Joshua_Goodman   103.696673   42.296572       31.064449   \n",
       "\n",
       "      right_eye_vert  right_ic_nose_top  right_ic_nose_btm  right_oc_nose_btm  \\\n",
       "0           9.055385          24.596748          40.459857          63.505905   \n",
       "1           9.055385          24.413111          26.870058          53.160135   \n",
       "2           9.219544          24.186773          39.051248          60.926185   \n",
       "3           8.246211          23.706539          41.400483          60.415230   \n",
       "4          10.198039          23.706539          40.607881          61.741396   \n",
       "...              ...                ...                ...                ...   \n",
       "4103       11.045361          17.204651          43.081318          58.137767   \n",
       "4104        7.071068          12.529964          29.966648          39.408121   \n",
       "4105       10.049876          17.204651          40.853396          54.817880   \n",
       "4106       10.198039          17.888544          41.593269          57.428216   \n",
       "4107       11.045361          21.189620          44.944410          65.734314   \n",
       "\n",
       "      left_eye_horz  ...  jaw_13_x  jaw_13_y  jaw_14_x  jaw_14_y  jaw_15_x  \\\n",
       "0         32.557641  ...       241       242       251       216       253   \n",
       "1         35.057096  ...       246       242       258       220       263   \n",
       "2         34.234486  ...       242       245       251       220       254   \n",
       "3         32.388269  ...       238       232       244       207       245   \n",
       "4         32.557641  ...       238       238       249       213       251   \n",
       "...             ...  ...       ...       ...       ...       ...       ...   \n",
       "4103      30.594117  ...       243       274       249       252       250   \n",
       "4104      20.223748  ...       197       200       199       186       200   \n",
       "4105      30.149627  ...       228       255       234       234       236   \n",
       "4106      29.614186  ...       149       255       155       235       157   \n",
       "4107      30.413813  ...       166       273       172       253       174   \n",
       "\n",
       "      jaw_15_y  jaw_16_x  jaw_16_y  jaw_17_x  jaw_17_y  \n",
       "0          188       252       160       250       132  \n",
       "1          194       265       168       266       141  \n",
       "2          192       254       164       251       136  \n",
       "3          180       244       155       243       129  \n",
       "4          185       250       157       248       130  \n",
       "...        ...       ...       ...       ...       ...  \n",
       "4103       228       249       204       247       180  \n",
       "4104       171       200       156       199       141  \n",
       "4105       212       235       189       234       166  \n",
       "4106       215       156       194       154       173  \n",
       "4107       231       173       209       171       187  \n",
       "\n",
       "[4108 rows x 217 columns]"
      ]
     },
     "execution_count": 8,
     "metadata": {},
     "output_type": "execute_result"
    }
   ],
   "source": [
    "faces_df = pd.read_csv(\"facial_geometry.csv\")\n",
    "faces_df"
   ]
  },
  {
   "cell_type": "code",
   "execution_count": 9,
   "metadata": {
    "hideCode": false,
    "hidePrompt": false
   },
   "outputs": [
    {
     "name": "stdout",
     "output_type": "stream",
     "text": [
      "<class 'pandas.core.frame.DataFrame'>\n",
      "RangeIndex: 4108 entries, 0 to 4107\n",
      "Columns: 215 entries, name to jaw_17_y\n",
      "dtypes: float64(62), int64(152), object(1)\n",
      "memory usage: 6.7+ MB\n"
     ]
    }
   ],
   "source": [
    "image_files = faces_df[\"file\"]\n",
    "faces_df.drop([\"Unnamed: 0\", \"file\"], inplace=True, axis=1)\n",
    "faces_df.dropna(inplace=True, axis=1)\n",
    "faces_df.replace(np.nan, 0, inplace=True)\n",
    "faces_df.info()"
   ]
  },
  {
   "cell_type": "markdown",
   "metadata": {
    "hideCode": false,
    "hidePrompt": false
   },
   "source": [
    "We need to manually define a categorical column for the data. I chose to use the fake username assigned to each user to create a category column which is a discrete number that maps to a user's name essentially creating a category index. The general process is to cast the desired field as a category data type, then apply a lambda function to record the category code (which is the index I mentioned)."
   ]
  },
  {
   "cell_type": "code",
   "execution_count": 10,
   "metadata": {
    "hideCode": false,
    "hidePrompt": false
   },
   "outputs": [
    {
     "name": "stdout",
     "output_type": "stream",
     "text": [
      "<class 'pandas.core.frame.DataFrame'>\n",
      "RangeIndex: 4108 entries, 0 to 4107\n",
      "Columns: 216 entries, name to category\n",
      "dtypes: float64(62), int16(1), int64(152), object(1)\n",
      "memory usage: 6.7+ MB\n"
     ]
    }
   ],
   "source": [
    "faces_df[\"category\"] = faces_df[\"name\"].astype(\"category\")\n",
    "cat_columns = faces_df.select_dtypes([\"category\"]).columns\n",
    "faces_df[cat_columns] = faces_df[cat_columns].apply(lambda x: x.cat.codes)\n",
    "name_map = faces_df[[\"name\", \"category\"]].set_index([\"category\"])\n",
    "faces_df.info()"
   ]
  },
  {
   "cell_type": "code",
   "execution_count": 11,
   "metadata": {
    "hideCode": false,
    "hidePrompt": false
   },
   "outputs": [
    {
     "name": "stdout",
     "output_type": "stream",
     "text": [
      "223 people, 4108 images\n"
     ]
    }
   ],
   "source": [
    "print(\"%d people, %d images\" % (len(faces_df[\"name\"].unique()), len(faces_df.index)))"
   ]
  },
  {
   "cell_type": "markdown",
   "metadata": {
    "hideCode": false,
    "hidePrompt": false
   },
   "source": [
    "## Creating the true holdout set\n",
    "We create a 3-image true holdout set, which will not be used for any of the feature selection, model training, or performance estimation. They will be held out until the end to prove the performance. The code below only allows for 1 image from each selected person to be drawn."
   ]
  },
  {
   "cell_type": "code",
   "execution_count": 12,
   "metadata": {
    "hideCode": false,
    "hidePrompt": false
   },
   "outputs": [
    {
     "data": {
      "text/html": [
       "<div>\n",
       "<style scoped>\n",
       "    .dataframe tbody tr th:only-of-type {\n",
       "        vertical-align: middle;\n",
       "    }\n",
       "\n",
       "    .dataframe tbody tr th {\n",
       "        vertical-align: top;\n",
       "    }\n",
       "\n",
       "    .dataframe thead th {\n",
       "        text-align: right;\n",
       "    }\n",
       "</style>\n",
       "<table border=\"1\" class=\"dataframe\">\n",
       "  <thead>\n",
       "    <tr style=\"text-align: right;\">\n",
       "      <th></th>\n",
       "      <th>name</th>\n",
       "      <th>outter_eyes</th>\n",
       "      <th>inner_eyes</th>\n",
       "      <th>right_eye_horz</th>\n",
       "      <th>right_eye_vert</th>\n",
       "      <th>right_ic_nose_top</th>\n",
       "      <th>right_ic_nose_btm</th>\n",
       "      <th>right_oc_nose_btm</th>\n",
       "      <th>left_eye_horz</th>\n",
       "      <th>left_eye_vert</th>\n",
       "      <th>...</th>\n",
       "      <th>jaw_13_y</th>\n",
       "      <th>jaw_14_x</th>\n",
       "      <th>jaw_14_y</th>\n",
       "      <th>jaw_15_x</th>\n",
       "      <th>jaw_15_y</th>\n",
       "      <th>jaw_16_x</th>\n",
       "      <th>jaw_16_y</th>\n",
       "      <th>jaw_17_x</th>\n",
       "      <th>jaw_17_y</th>\n",
       "      <th>category</th>\n",
       "    </tr>\n",
       "  </thead>\n",
       "  <tbody>\n",
       "    <tr>\n",
       "      <th>1165</th>\n",
       "      <td>James_Carter</td>\n",
       "      <td>103.310212</td>\n",
       "      <td>42.190046</td>\n",
       "      <td>32.015621</td>\n",
       "      <td>6.000000</td>\n",
       "      <td>26.570661</td>\n",
       "      <td>40.607881</td>\n",
       "      <td>65.863495</td>\n",
       "      <td>29.154759</td>\n",
       "      <td>7.071068</td>\n",
       "      <td>...</td>\n",
       "      <td>252</td>\n",
       "      <td>226</td>\n",
       "      <td>233</td>\n",
       "      <td>231</td>\n",
       "      <td>212</td>\n",
       "      <td>233</td>\n",
       "      <td>191</td>\n",
       "      <td>235</td>\n",
       "      <td>171</td>\n",
       "      <td>82</td>\n",
       "    </tr>\n",
       "    <tr>\n",
       "      <th>219</th>\n",
       "      <td>Gerald_Jimenez</td>\n",
       "      <td>107.004673</td>\n",
       "      <td>44.000000</td>\n",
       "      <td>30.016662</td>\n",
       "      <td>12.041595</td>\n",
       "      <td>21.023796</td>\n",
       "      <td>43.863424</td>\n",
       "      <td>63.126856</td>\n",
       "      <td>33.060551</td>\n",
       "      <td>11.000000</td>\n",
       "      <td>...</td>\n",
       "      <td>275</td>\n",
       "      <td>232</td>\n",
       "      <td>253</td>\n",
       "      <td>236</td>\n",
       "      <td>230</td>\n",
       "      <td>239</td>\n",
       "      <td>206</td>\n",
       "      <td>240</td>\n",
       "      <td>183</td>\n",
       "      <td>66</td>\n",
       "    </tr>\n",
       "    <tr>\n",
       "      <th>3572</th>\n",
       "      <td>Lonnie_Wagner</td>\n",
       "      <td>78.313473</td>\n",
       "      <td>32.140317</td>\n",
       "      <td>23.194827</td>\n",
       "      <td>9.055385</td>\n",
       "      <td>17.262677</td>\n",
       "      <td>32.756679</td>\n",
       "      <td>50.606324</td>\n",
       "      <td>23.021729</td>\n",
       "      <td>9.000000</td>\n",
       "      <td>...</td>\n",
       "      <td>206</td>\n",
       "      <td>198</td>\n",
       "      <td>191</td>\n",
       "      <td>203</td>\n",
       "      <td>177</td>\n",
       "      <td>207</td>\n",
       "      <td>161</td>\n",
       "      <td>211</td>\n",
       "      <td>144</td>\n",
       "      <td>138</td>\n",
       "    </tr>\n",
       "  </tbody>\n",
       "</table>\n",
       "<p>3 rows × 216 columns</p>\n",
       "</div>"
      ],
      "text/plain": [
       "                name  outter_eyes  inner_eyes  right_eye_horz  right_eye_vert  \\\n",
       "1165    James_Carter   103.310212   42.190046       32.015621        6.000000   \n",
       "219   Gerald_Jimenez   107.004673   44.000000       30.016662       12.041595   \n",
       "3572   Lonnie_Wagner    78.313473   32.140317       23.194827        9.055385   \n",
       "\n",
       "      right_ic_nose_top  right_ic_nose_btm  right_oc_nose_btm  left_eye_horz  \\\n",
       "1165          26.570661          40.607881          65.863495      29.154759   \n",
       "219           21.023796          43.863424          63.126856      33.060551   \n",
       "3572          17.262677          32.756679          50.606324      23.021729   \n",
       "\n",
       "      left_eye_vert  ...  jaw_13_y  jaw_14_x  jaw_14_y  jaw_15_x  jaw_15_y  \\\n",
       "1165       7.071068  ...       252       226       233       231       212   \n",
       "219       11.000000  ...       275       232       253       236       230   \n",
       "3572       9.000000  ...       206       198       191       203       177   \n",
       "\n",
       "      jaw_16_x  jaw_16_y  jaw_17_x  jaw_17_y  category  \n",
       "1165       233       191       235       171        82  \n",
       "219        239       206       240       183        66  \n",
       "3572       207       161       211       144       138  \n",
       "\n",
       "[3 rows x 216 columns]"
      ]
     },
     "execution_count": 12,
     "metadata": {},
     "output_type": "execute_result"
    }
   ],
   "source": [
    "real_test = {}\n",
    "while len(real_test) < 3:\n",
    "    name = choice(list(faces_df[\"name\"].unique()))\n",
    "    if name not in real_test.keys():\n",
    "        group = faces_df[faces_df[\"name\"] == name]\n",
    "        real_test[name] = choice(group.index.to_list())\n",
    "index_list = [r[1] for r in real_test.items()]\n",
    "real_X = faces_df.iloc[index_list]\n",
    "faces_df.drop(index_list, inplace=True)\n",
    "real_X"
   ]
  },
  {
   "cell_type": "code",
   "execution_count": 13,
   "metadata": {
    "hideCode": false,
    "hidePrompt": false
   },
   "outputs": [
    {
     "name": "stdout",
     "output_type": "stream",
     "text": [
      "<class 'pandas.core.frame.DataFrame'>\n",
      "Int64Index: 4105 entries, 0 to 4107\n",
      "Columns: 216 entries, name to category\n",
      "dtypes: float64(62), int16(1), int64(152), object(1)\n",
      "memory usage: 6.8+ MB\n"
     ]
    }
   ],
   "source": [
    "faces_df.info()"
   ]
  },
  {
   "cell_type": "markdown",
   "metadata": {
    "hideCode": false,
    "hidePrompt": false
   },
   "source": [
    "And just to be sure they are actually removed from the data set, w can examine the number of remaining indexes"
   ]
  },
  {
   "cell_type": "code",
   "execution_count": 14,
   "metadata": {
    "hideCode": false,
    "hidePrompt": false
   },
   "outputs": [
    {
     "name": "stdout",
     "output_type": "stream",
     "text": [
      "223 people, 4105 images\n"
     ]
    }
   ],
   "source": [
    "print(\"%d people, %d images\" % (len(faces_df[\"name\"].unique()), len(faces_df.index)))"
   ]
  },
  {
   "cell_type": "markdown",
   "metadata": {
    "hideCode": false,
    "hidePrompt": false
   },
   "source": [
    "# Feature engineering\n",
    "The first task in any modeling project is to identify which features in the data contribute the most information to the decision process. We achieve this through a mathematically analyzing the relationships between the values and the predicted value. This process is known as Feature engineering or \"Feature Selection\" and is a key skill to understand when working with high-dimensional data (see the chapter text for more details).\n",
    "## Feature Association\n",
    "The first measure we apply is Feature Association. I am using code from a great blog post on the topic\n",
    "<a href=\"https://towardsdatascience.com/the-search-for-categorical-correlation-a1cf7f1888c9\">The search for categorical correlation</a>. By default the association function will only display a plot of the results. You can force it to also return the matrix result by setting return_results=True. The function adds annotations to each box unless you tell it not to by setting annot=False. I chose the \"Blues reversed\" color map to make the gray scale image presented in the text more readable but you can change this to any of the supported <a href=\"https://matplotlib.org/3.3.2/tutorials/colors/colormaps.html\">color maps</a> or <a href=\"https://matplotlib.org/3.3.2/tutorials/colors/colormap-manipulation.html\">define one of your own<a/>."
   ]
  },
  {
   "cell_type": "code",
   "execution_count": 15,
   "metadata": {
    "hideCode": false,
    "hidePrompt": false
   },
   "outputs": [
    {
     "data": {
      "image/png": "[encoded data removed]",
      "text/plain": [
       "<Figure size 432x288 with 2 Axes>"
      ]
     },
     "metadata": {
      "needs_background": "light"
     },
     "output_type": "display_data"
    }
   ],
   "source": [
    "#Using Thiel's U for Nominal-Nominal Associations\n",
    "assoc_matrix = associations(faces_df, nominal_columns=['name'], theil_u=True, return_results=True,  annot=False, cmap=\"Blues_r\")\n",
    "#assoc_matrix.to_csv(\"feature_association.csv\")"
   ]
  },
  {
   "cell_type": "markdown",
   "metadata": {
    "hideCode": false,
    "hidePrompt": false
   },
   "source": [
    "If you'd like to save the resulting data to a CSV you can uncomment the last line when running the cell above. This can be useful in situations where you have thousands (or more) features to manage.\n",
    "\n",
    "The next step is to select the subset of attributes that have the highest association with the desired feature. In this case we want to predict the category (name) of the person in a given image, so we are interested in features with a high (>0.95) association to that variable."
   ]
  },
  {
   "cell_type": "code",
   "execution_count": 16,
   "metadata": {
    "hideCode": false,
    "hidePrompt": false
   },
   "outputs": [
    {
     "data": {
      "text/plain": [
       "['outter_eyes',\n",
       " 'inner_eyes',\n",
       " 'right_eye_horz',\n",
       " 'right_ic_nose_top',\n",
       " 'right_ic_nose_btm',\n",
       " 'right_oc_nose_btm',\n",
       " 'left_eye_horz',\n",
       " 'nose_horz',\n",
       " 'nose_vert',\n",
       " 'chin_lmouth',\n",
       " 'chin_rmouth',\n",
       " 'face_horz',\n",
       " 'face_vert',\n",
       " 'nose_redge_right_oc_node',\n",
       " 'nose_ledge_upper_lip_ctr',\n",
       " 'right_ic_node_rbrow',\n",
       " 'left_ic_node_lbrow',\n",
       " 'right_ue_node_rbrow',\n",
       " 'left_ue_node_lbrow',\n",
       " 'right_ic_node_bridge_btm',\n",
       " 'left_ic_node_bridge_btm',\n",
       " 'right_ic_node_bridge_top',\n",
       " 'nose_ledge_bridge_btm',\n",
       " 'nose_redge_bridge_btm',\n",
       " 'nose_area',\n",
       " 'chin_tri_area',\n",
       " 'center_tri_area',\n",
       " 'eyebrow_tri_area',\n",
       " 'category']"
      ]
     },
     "execution_count": 16,
     "metadata": {},
     "output_type": "execute_result"
    }
   ],
   "source": [
    "assoc_matrix = assoc_matrix[abs(assoc_matrix[\"name\"]) > 0.95]\n",
    "key_features = list(assoc_matrix[\"name\"].index)[1:]\n",
    "key_features"
   ]
  },
  {
   "cell_type": "markdown",
   "metadata": {
    "hideCode": false,
    "hidePrompt": false
   },
   "source": [
    "The association code visualizes the key features, and their relationship to the \"name\" variable we want to predict, as well as to each other. You can suppress the plot by setting plot=False if you prefer to work with the numeric results only. I also added code to save the figure under a static name which I used to produce the images for the chapter, you can activate this by setting save_plot=True."
   ]
  },
  {
   "cell_type": "code",
   "execution_count": 17,
   "metadata": {
    "hideCode": false,
    "hidePrompt": false
   },
   "outputs": [
    {
     "data": {
      "image/png": "[encoded data removed]",
      "text/plain": [
       "<Figure size 432x288 with 2 Axes>"
      ]
     },
     "metadata": {
      "needs_background": "light"
     },
     "output_type": "display_data"
    }
   ],
   "source": [
    "assoc_matrix = associations(faces_df[key_features].drop(\"category\", axis=1), nominal_columns=[\"name\"], annot=False, cmap=\"Blues_r\")"
   ]
  },
  {
   "cell_type": "markdown",
   "metadata": {
    "hideCode": false,
    "hidePrompt": false
   },
   "source": [
    "## Mutual Information Classification\n",
    "The next cell measures \"Mutual Information Classification\". The scipy implementation uses a nearest-neighbor approach to determine if groups of features can be used to create better neighbor clusters. it does so by training a nearest-neighbor classifier on different subsets of the features and scoring the number of correct classifications. Subsets of features which create better classifiers are considered to be more informative than ones which showed lower classifier performance."
   ]
  },
  {
   "cell_type": "code",
   "execution_count": 18,
   "metadata": {
    "hideCode": false,
    "hidePrompt": false
   },
   "outputs": [],
   "source": [
    "\n",
    "contributing = mutual_info_classif(\n",
    "        faces_df.drop([\"name\", \"category\"], axis=1),\n",
    "        faces_df[\"category\"],\n",
    "        discrete_features=\"auto\",\n",
    "        n_neighbors=7\n",
    ")"
   ]
  },
  {
   "cell_type": "markdown",
   "metadata": {
    "hideCode": false,
    "hidePrompt": false
   },
   "source": [
    "Project the features which have a higher mutual information score into another feature subset named mutual_inf_feats. Take the union of the two feature lists to produce a reduced key feature set that is guaranteed to have highly associated variables which also provide good mutual information."
   ]
  },
  {
   "cell_type": "code",
   "execution_count": 19,
   "metadata": {
    "hideCode": false,
    "hidePrompt": false
   },
   "outputs": [
    {
     "name": "stdout",
     "output_type": "stream",
     "text": [
      "['outter_eyes', 'inner_eyes', 'right_eye_horz', 'left_eye_horz', 'nose_vert', 'face_horz', 'right_ic_node_bridge_btm', 'left_ic_node_bridge_btm', 'nose_area', 'center_tri_area']\n",
      "10\n"
     ]
    }
   ],
   "source": [
    "results = zip(faces_df.drop([\"name\", \"category\"], axis=1).columns, contributing)\n",
    "cutoff = max(contributing) * 0.75\n",
    "mutual_inf_feats = [f for f,v in results if v >= cutoff]\n",
    "reduced_features = [k for k in mutual_inf_feats if k in key_features]\n",
    "print(reduced_features)\n",
    "print(len(reduced_features))"
   ]
  },
  {
   "cell_type": "markdown",
   "metadata": {
    "hideCode": false,
    "hidePrompt": false
   },
   "source": [
    "## Correlation Ratio\n",
    "Calculating the correlation ratio (denoted $\\eta$) is the last example of feature engineering in the text. This is another function taken from the previously mentioned blog post. See the notes in the nominal.py file for a detailed explanation of how it functions. You probably don't need to include this step. it may even lead to better model performance to skip it. I leave it up to you to experiment with that."
   ]
  },
  {
   "cell_type": "code",
   "execution_count": 20,
   "metadata": {
    "hideCode": false,
    "hidePrompt": false
   },
   "outputs": [
    {
     "data": {
      "text/plain": [
       "['outter_eyes', 'nose_area', 'face_horz', 'center_tri_area']"
      ]
     },
     "execution_count": 20,
     "metadata": {},
     "output_type": "execute_result"
    }
   ],
   "source": [
    "etas = {}\n",
    "for feat in faces_df.columns.to_list():\n",
    "    if feat not in [\"category\", \"name\"]:\n",
    "        etas[feat] = correlation_ratio(faces_df[feat], faces_df[\"category\"])\n",
    "sorted_rank = sorted(etas.items(), key=lambda kv: kv[1])\n",
    "reduced_key_features = []\n",
    "for f in sorted_rank[-21:]:\n",
    "    if f[0] in reduced_features:\n",
    "        reduced_key_features.append(f[0])\n",
    "reduced_key_features"
   ]
  },
  {
   "cell_type": "markdown",
   "metadata": {
    "hideCode": false,
    "hidePrompt": false
   },
   "source": [
    "# Model training\n",
    "I have opted for the data training split of \"Leave one out\" which creates a split for each sample. It then uses all the images that are not the split image to train a new classifier and finally uses that classifier to predict the value of the withheld training sample. The LOO algorithm is a specific version of the broader class of cross-validation algorithms which all share the attribute of repeatedly sampling the data then training and testing a classifier on multiple subsets called splits."
   ]
  },
  {
   "cell_type": "code",
   "execution_count": 21,
   "metadata": {
    "hideCode": false,
    "hidePrompt": false
   },
   "outputs": [],
   "source": [
    "X = faces_df[reduced_key_features]\n",
    "y = faces_df[\"category\"]\n",
    "loo = LeaveOneOut()\n",
    "splits = list(loo.split(X))"
   ]
  },
  {
   "cell_type": "markdown",
   "metadata": {
    "hideCode": false,
    "hidePrompt": false
   },
   "source": [
    "## Dummy classifiers\n",
    "The first thing to do when working on classifying data is to define the null performance base line. This is the performance that can be expected by using simple classification rules such as randomly guessing or weighted guessing. Aside from giving a baseline performance to compare results against these classifiers can uncover problems in the data that might impact the reliability of models.\n",
    "### Uniform Guess classifier\n",
    "The first dummy classifier uses the random guessing strategy, called uniform-guess classification. In this strategy each class is equally weighted and therefore equally probable. A good performance score from random guessing generally means that there aren't a lot of classes or there is a lack of data. If you imagine flipping a coin and randomly guessing the result you'd expect to be right about 50% of the time on some large number of flips (say 1000) but because of localized clusters in a smaller sample size (say 5 flips) you could conceivably guess 60-80% (3-4) because there are only two classes to choose from and such a small sample size."
   ]
  },
  {
   "cell_type": "code",
   "execution_count": 22,
   "metadata": {
    "hideCode": false,
    "hidePrompt": false
   },
   "outputs": [
    {
     "name": "stderr",
     "output_type": "stream",
     "text": [
      "/home/dreilly/anaconda3/envs/researchenv/lib/python3.7/site-packages/sklearn/model_selection/_split.py:668: UserWarning: The least populated class in y has only 4 members, which is less than n_splits=5.\n",
      "  % (min_groups, self.n_splits)), UserWarning)\n",
      "/home/dreilly/anaconda3/envs/researchenv/lib/python3.7/site-packages/sklearn/model_selection/_split.py:668: UserWarning: The least populated class in y has only 4 members, which is less than n_splits=5.\n",
      "  % (min_groups, self.n_splits)), UserWarning)\n",
      "/home/dreilly/anaconda3/envs/researchenv/lib/python3.7/site-packages/sklearn/model_selection/_split.py:668: UserWarning: The least populated class in y has only 4 members, which is less than n_splits=5.\n",
      "  % (min_groups, self.n_splits)), UserWarning)\n",
      "/home/dreilly/anaconda3/envs/researchenv/lib/python3.7/site-packages/sklearn/model_selection/_split.py:668: UserWarning: The least populated class in y has only 4 members, which is less than n_splits=5.\n",
      "  % (min_groups, self.n_splits)), UserWarning)\n",
      "/home/dreilly/anaconda3/envs/researchenv/lib/python3.7/site-packages/sklearn/model_selection/_split.py:668: UserWarning: The least populated class in y has only 4 members, which is less than n_splits=5.\n",
      "  % (min_groups, self.n_splits)), UserWarning)\n"
     ]
    },
    {
     "name": "stdout",
     "output_type": "stream",
     "text": [
      "0.004482484582160278\n",
      "19 4105\n",
      "0.004628501827040195\n"
     ]
    }
   ],
   "source": [
    "\n",
    "dc = DummyClassifier(strategy=\"uniform\")\n",
    "scores = []\n",
    "hits = 0\n",
    "misses = 0\n",
    "for train_index, test_index in splits:\n",
    "    X_train, y_train, = X.iloc[train_index], y.iloc[train_index]\n",
    "    X_test, y_test, = X.iloc[test_index], y.iloc[test_index]  \n",
    "    cvs = cross_val_score(dc, X_train, y_train)\n",
    "    score = sum(cvs) / 5\n",
    "    scores.append(score)\n",
    "    dc.fit(X_train, y_train)\n",
    "    y_pred = dc.predict(X_test)\n",
    "    if y_test.values[0]==y_pred:\n",
    "        hits += 1\n",
    "    else:\n",
    "        misses += 1\n",
    "print(sum(scores) / len(scores))\n",
    "print (hits, (hits+misses))\n",
    "print (hits / (hits+misses))"
   ]
  },
  {
   "cell_type": "markdown",
   "metadata": {
    "hideCode": false,
    "hidePrompt": false
   },
   "source": [
    "Clearly the large number of classes makes random guessing a very bad strategy with a priori odds of 1/221\n",
    "\n",
    "### Majority class guess\n",
    "Another strategy which can tell you about the quality of the data sample is to always predict the most represented class in the training set (the majority class). This classifier is good for getting a sense of how heavily weighted towards a single class a data sample is. If this predictor performs well, it means the majority class outweighs the other classes. There are a number of strategies for <a href=\"https://machinelearningmastery.com/tactics-to-combat-imbalanced-classes-in-your-machine-learning-dataset/\">dealing with imbalanced data</a>"
   ]
  },
  {
   "cell_type": "code",
   "execution_count": 23,
   "metadata": {
    "hideCode": false,
    "hidePrompt": false
   },
   "outputs": [
    {
     "name": "stderr",
     "output_type": "stream",
     "text": [
      "/home/dreilly/anaconda3/envs/researchenv/lib/python3.7/site-packages/sklearn/model_selection/_split.py:668: UserWarning: The least populated class in y has only 4 members, which is less than n_splits=5.\n",
      "  % (min_groups, self.n_splits)), UserWarning)\n",
      "/home/dreilly/anaconda3/envs/researchenv/lib/python3.7/site-packages/sklearn/model_selection/_split.py:668: UserWarning: The least populated class in y has only 4 members, which is less than n_splits=5.\n",
      "  % (min_groups, self.n_splits)), UserWarning)\n",
      "/home/dreilly/anaconda3/envs/researchenv/lib/python3.7/site-packages/sklearn/model_selection/_split.py:668: UserWarning: The least populated class in y has only 4 members, which is less than n_splits=5.\n",
      "  % (min_groups, self.n_splits)), UserWarning)\n",
      "/home/dreilly/anaconda3/envs/researchenv/lib/python3.7/site-packages/sklearn/model_selection/_split.py:668: UserWarning: The least populated class in y has only 4 members, which is less than n_splits=5.\n",
      "  % (min_groups, self.n_splits)), UserWarning)\n",
      "/home/dreilly/anaconda3/envs/researchenv/lib/python3.7/site-packages/sklearn/model_selection/_split.py:668: UserWarning: The least populated class in y has only 4 members, which is less than n_splits=5.\n",
      "  % (min_groups, self.n_splits)), UserWarning)\n"
     ]
    },
    {
     "name": "stdout",
     "output_type": "stream",
     "text": [
      "0.009744217267525243\n",
      "40 4105\n",
      "0.0097442143727162\n"
     ]
    }
   ],
   "source": [
    "dc = DummyClassifier(strategy=\"most_frequent\")\n",
    "scores = []\n",
    "hits = 0\n",
    "misses = 0\n",
    "for train_index, test_index in splits:\n",
    "    X_train, y_train, = X.iloc[train_index], y.iloc[train_index]\n",
    "    X_test, y_test, = X.iloc[test_index], y.iloc[test_index]  \n",
    "    cvs = cross_val_score(dc, X_train, y_train)\n",
    "    score = sum(cvs) / 5\n",
    "    scores.append(score)\n",
    "    dc.fit(X_train, y_train)\n",
    "    y_pred = dc.predict(X_test)\n",
    "    if y_test.values[0]==y_pred:\n",
    "        hits += 1\n",
    "    else:\n",
    "        misses += 1\n",
    "print(sum(scores) / len(scores))\n",
    "print (hits, (hits+misses))\n",
    "print (hits / (hits+misses))"
   ]
  },
  {
   "cell_type": "markdown",
   "metadata": {
    "hideCode": false,
    "hidePrompt": false
   },
   "source": [
    "## Decision Tree classification\n",
    "Now let's train an actual classifier. One good option for the task at hand is a Decision Tree. By using 5 cross-fold validations (which in this case is 1 fold tested 5 times) we get an average estimated performance for a single image in the set. By taking the average of this average, we get the statistical \"Grand mean\"."
   ]
  },
  {
   "cell_type": "code",
   "execution_count": 24,
   "metadata": {
    "hideCode": false,
    "hidePrompt": false
   },
   "outputs": [
    {
     "name": "stdout",
     "output_type": "stream",
     "text": [
      "0.6362741986274917\n"
     ]
    }
   ],
   "source": [
    "scores = []\n",
    "tree = DecisionTreeClassifier(min_samples_split=5, min_samples_leaf=3)\n",
    "chose = []\n",
    "for i in range(50):\n",
    "    split_i = randint(0, len(splits))\n",
    "    while split_i in chose:\n",
    "        split_i = randint(0, len(splits))\n",
    "    chose.append(split_i)\n",
    "    train_index, test_index = splits[split_i]\n",
    "    X_train, X_test = X.iloc[train_index], X.iloc[test_index]\n",
    "    y_train, y_test = y.iloc[train_index], y.iloc[test_index]    \n",
    "    cvs = cross_val_score(tree, X_train, y_train, cv=5)\n",
    "    score = sum(cvs) / 5\n",
    "    scores.append(score)\n",
    "print(sum(scores) / len(scores))"
   ]
  },
  {
   "cell_type": "markdown",
   "metadata": {
    "hideCode": false,
    "hidePrompt": false
   },
   "source": [
    "## Random Forest classification\n",
    "Decision trees alone are sensitive to initial conditions and outlier data. However, by using many decision trees started at different random starting points we can normalize some of this behavior. This normalization often drastically improves the estimated performance"
   ]
  },
  {
   "cell_type": "code",
   "execution_count": 25,
   "metadata": {
    "hideCode": false,
    "hidePrompt": false
   },
   "outputs": [
    {
     "name": "stdout",
     "output_type": "stream",
     "text": [
      "0.7620223225691453\n",
      "34 50\n",
      "0.68\n"
     ]
    }
   ],
   "source": [
    "rfc = RandomForestClassifier(n_estimators=100, min_samples_split=5, min_samples_leaf=3)\n",
    "scores = []\n",
    "chose = []\n",
    "hits = 0\n",
    "misses = 0\n",
    "for i in range(50):\n",
    "    split_i = randint(0, len(splits))\n",
    "    while split_i in chose:\n",
    "        split_i = randint(0, len(splits))\n",
    "    chose.append(split_i)\n",
    "    train_index, test_index = splits[split_i]\n",
    "    X_train, X_test = X.iloc[train_index], X.iloc[test_index]\n",
    "    y_train, y_test = y.iloc[train_index], y.iloc[test_index]    \n",
    "    cvs = cross_val_score(rfc, X_train, y_train, cv=5)\n",
    "    score = sum(cvs) / 5\n",
    "    scores.append(score)\n",
    "    rfc.fit(X_train, y_train)\n",
    "    y_pred = rfc.predict(X_test)\n",
    "    if y_test.values[0]==y_pred:\n",
    "        hits += 1\n",
    "    else:\n",
    "        misses += 1\n",
    "print(sum(scores) / len(scores))\n",
    "print (hits, (hits+misses))\n",
    "print (hits / (hits+misses))"
   ]
  },
  {
   "cell_type": "markdown",
   "metadata": {
    "hideCode": false,
    "hidePrompt": false
   },
   "source": [
    "# Verifying the model\n",
    "Now we have an estimated performance for how our classifier should do on a never-before-seen data sample. To test this hypothesis we use the hold-out data of 3 test images defined in the beginning. The objective is to predict the category which maps to the proper user name."
   ]
  },
  {
   "cell_type": "code",
   "execution_count": 26,
   "metadata": {
    "hideCode": false,
    "hidePrompt": false
   },
   "outputs": [
    {
     "name": "stdout",
     "output_type": "stream",
     "text": [
      "[(82, 82), (2, 66), (138, 138)]\n"
     ]
    }
   ],
   "source": [
    "real_y = real_X[\"category\"]\n",
    "test_X = real_X[reduced_key_features]\n",
    "rfc = RandomForestClassifier(n_estimators=100, min_samples_split=5, min_samples_leaf=3)\n",
    "rfc.fit(X, y)\n",
    "y_pred = rfc.predict(test_X)\n",
    "print(list(zip(y_pred, real_y)))"
   ]
  },
  {
   "cell_type": "markdown",
   "metadata": {
    "hideCode": false,
    "hidePrompt": false
   },
   "source": [
    "Rather than predicting the single class you can get 'probability' estimates (which aren't necessarily exact probabilities). The result is a list of lists, one for each sample in the test set. Each list contains $n$ values indexed off of the corresponding class identifier. So for example the 0th element holds the probability score for the class with ID 0, the 4th cell contains the probability for the class with ID 4 and so on."
   ]
  },
  {
   "cell_type": "code",
   "execution_count": 27,
   "metadata": {
    "hideCode": false,
    "hidePrompt": false
   },
   "outputs": [
    {
     "data": {
      "text/plain": [
       "array([[0.        , 0.        , 0.        , 0.        , 0.        ,\n",
       "        0.        , 0.        , 0.        , 0.        , 0.        ,\n",
       "        0.        , 0.        , 0.        , 0.        , 0.        ,\n",
       "        0.        , 0.        , 0.        , 0.        , 0.        ,\n",
       "        0.        , 0.        , 0.        , 0.        , 0.        ,\n",
       "        0.        , 0.        , 0.        , 0.        , 0.        ,\n",
       "        0.        , 0.        , 0.        , 0.        , 0.        ,\n",
       "        0.        , 0.        , 0.        , 0.        , 0.        ,\n",
       "        0.        , 0.        , 0.        , 0.        , 0.        ,\n",
       "        0.        , 0.        , 0.        , 0.        , 0.        ,\n",
       "        0.        , 0.        , 0.        , 0.0025    , 0.        ,\n",
       "        0.00142857, 0.        , 0.        , 0.        , 0.        ,\n",
       "        0.        , 0.        , 0.        , 0.        , 0.        ,\n",
       "        0.        , 0.        , 0.        , 0.        , 0.        ,\n",
       "        0.        , 0.        , 0.        , 0.        , 0.        ,\n",
       "        0.        , 0.        , 0.        , 0.        , 0.        ,\n",
       "        0.        , 0.        , 0.8246728 , 0.        , 0.        ,\n",
       "        0.        , 0.        , 0.        , 0.        , 0.        ,\n",
       "        0.00917532, 0.        , 0.        , 0.12112013, 0.        ,\n",
       "        0.        , 0.        , 0.        , 0.        , 0.        ,\n",
       "        0.        , 0.        , 0.        , 0.        , 0.        ,\n",
       "        0.        , 0.        , 0.        , 0.        , 0.        ,\n",
       "        0.        , 0.        , 0.        , 0.        , 0.        ,\n",
       "        0.        , 0.004     , 0.        , 0.        , 0.        ,\n",
       "        0.        , 0.        , 0.        , 0.        , 0.        ,\n",
       "        0.        , 0.        , 0.        , 0.        , 0.        ,\n",
       "        0.        , 0.        , 0.        , 0.        , 0.        ,\n",
       "        0.        , 0.        , 0.        , 0.        , 0.        ,\n",
       "        0.        , 0.        , 0.        , 0.        , 0.        ,\n",
       "        0.        , 0.        , 0.        , 0.        , 0.        ,\n",
       "        0.        , 0.        , 0.        , 0.        , 0.002     ,\n",
       "        0.        , 0.        , 0.        , 0.        , 0.        ,\n",
       "        0.        , 0.        , 0.        , 0.        , 0.        ,\n",
       "        0.        , 0.        , 0.        , 0.        , 0.        ,\n",
       "        0.        , 0.        , 0.        , 0.        , 0.        ,\n",
       "        0.        , 0.        , 0.        , 0.        , 0.        ,\n",
       "        0.        , 0.        , 0.        , 0.        , 0.        ,\n",
       "        0.        , 0.        , 0.        , 0.        , 0.        ,\n",
       "        0.        , 0.        , 0.        , 0.        , 0.        ,\n",
       "        0.        , 0.        , 0.        , 0.        , 0.        ,\n",
       "        0.        , 0.        , 0.        , 0.        , 0.        ,\n",
       "        0.        , 0.        , 0.        , 0.        , 0.        ,\n",
       "        0.        , 0.        , 0.        , 0.        , 0.        ,\n",
       "        0.        , 0.        , 0.        , 0.03510317, 0.        ,\n",
       "        0.        , 0.        , 0.        ],\n",
       "       [0.        , 0.        , 0.48880916, 0.        , 0.        ,\n",
       "        0.        , 0.        , 0.        , 0.        , 0.        ,\n",
       "        0.        , 0.        , 0.        , 0.        , 0.        ,\n",
       "        0.        , 0.        , 0.        , 0.        , 0.        ,\n",
       "        0.        , 0.        , 0.        , 0.        , 0.        ,\n",
       "        0.        , 0.        , 0.        , 0.        , 0.        ,\n",
       "        0.        , 0.06320996, 0.01435714, 0.        , 0.        ,\n",
       "        0.        , 0.        , 0.        , 0.        , 0.        ,\n",
       "        0.        , 0.        , 0.        , 0.        , 0.        ,\n",
       "        0.        , 0.        , 0.        , 0.        , 0.        ,\n",
       "        0.00791667, 0.        , 0.        , 0.        , 0.        ,\n",
       "        0.        , 0.        , 0.        , 0.        , 0.        ,\n",
       "        0.        , 0.        , 0.        , 0.        , 0.        ,\n",
       "        0.        , 0.36990945, 0.        , 0.        , 0.        ,\n",
       "        0.        , 0.        , 0.        , 0.        , 0.        ,\n",
       "        0.        , 0.        , 0.01905952, 0.        , 0.        ,\n",
       "        0.        , 0.        , 0.        , 0.        , 0.0025    ,\n",
       "        0.        , 0.        , 0.        , 0.        , 0.        ,\n",
       "        0.        , 0.        , 0.002     , 0.        , 0.        ,\n",
       "        0.        , 0.        , 0.        , 0.        , 0.        ,\n",
       "        0.        , 0.        , 0.        , 0.02347619, 0.        ,\n",
       "        0.        , 0.        , 0.        , 0.        , 0.        ,\n",
       "        0.        , 0.        , 0.        , 0.        , 0.        ,\n",
       "        0.        , 0.        , 0.        , 0.        , 0.        ,\n",
       "        0.        , 0.        , 0.0047619 , 0.        , 0.        ,\n",
       "        0.        , 0.        , 0.        , 0.        , 0.        ,\n",
       "        0.        , 0.        , 0.        , 0.        , 0.        ,\n",
       "        0.        , 0.        , 0.        , 0.        , 0.        ,\n",
       "        0.        , 0.        , 0.        , 0.        , 0.        ,\n",
       "        0.        , 0.        , 0.        , 0.        , 0.        ,\n",
       "        0.        , 0.        , 0.        , 0.        , 0.        ,\n",
       "        0.        , 0.        , 0.        , 0.        , 0.        ,\n",
       "        0.        , 0.        , 0.        , 0.        , 0.        ,\n",
       "        0.        , 0.        , 0.        , 0.        , 0.        ,\n",
       "        0.        , 0.        , 0.        , 0.        , 0.        ,\n",
       "        0.        , 0.        , 0.        , 0.        , 0.        ,\n",
       "        0.        , 0.        , 0.        , 0.        , 0.        ,\n",
       "        0.        , 0.        , 0.        , 0.        , 0.        ,\n",
       "        0.        , 0.        , 0.        , 0.        , 0.        ,\n",
       "        0.        , 0.        , 0.        , 0.        , 0.004     ,\n",
       "        0.        , 0.        , 0.        , 0.        , 0.        ,\n",
       "        0.        , 0.        , 0.        , 0.        , 0.        ,\n",
       "        0.        , 0.        , 0.        , 0.        , 0.        ,\n",
       "        0.        , 0.        , 0.        , 0.        , 0.        ,\n",
       "        0.        , 0.        , 0.        ],\n",
       "       [0.        , 0.        , 0.        , 0.        , 0.        ,\n",
       "        0.01117532, 0.        , 0.01361905, 0.        , 0.        ,\n",
       "        0.        , 0.        , 0.        , 0.        , 0.        ,\n",
       "        0.04894372, 0.        , 0.        , 0.        , 0.        ,\n",
       "        0.        , 0.        , 0.        , 0.        , 0.        ,\n",
       "        0.        , 0.        , 0.        , 0.        , 0.        ,\n",
       "        0.        , 0.        , 0.        , 0.        , 0.00142857,\n",
       "        0.        , 0.        , 0.        , 0.        , 0.03088889,\n",
       "        0.        , 0.        , 0.        , 0.        , 0.13655303,\n",
       "        0.        , 0.        , 0.        , 0.        , 0.        ,\n",
       "        0.        , 0.        , 0.        , 0.        , 0.008     ,\n",
       "        0.        , 0.        , 0.        , 0.        , 0.        ,\n",
       "        0.        , 0.        , 0.        , 0.        , 0.00166667,\n",
       "        0.        , 0.        , 0.        , 0.        , 0.        ,\n",
       "        0.        , 0.        , 0.00733333, 0.        , 0.04124242,\n",
       "        0.        , 0.        , 0.        , 0.        , 0.        ,\n",
       "        0.08345238, 0.        , 0.        , 0.        , 0.        ,\n",
       "        0.        , 0.        , 0.        , 0.        , 0.        ,\n",
       "        0.        , 0.        , 0.        , 0.        , 0.        ,\n",
       "        0.        , 0.        , 0.        , 0.11159524, 0.        ,\n",
       "        0.        , 0.        , 0.        , 0.        , 0.        ,\n",
       "        0.        , 0.        , 0.        , 0.        , 0.        ,\n",
       "        0.00333333, 0.        , 0.        , 0.        , 0.        ,\n",
       "        0.        , 0.        , 0.        , 0.        , 0.        ,\n",
       "        0.        , 0.        , 0.        , 0.        , 0.        ,\n",
       "        0.        , 0.        , 0.        , 0.        , 0.00533333,\n",
       "        0.        , 0.        , 0.        , 0.005     , 0.        ,\n",
       "        0.        , 0.        , 0.        , 0.38649315, 0.        ,\n",
       "        0.        , 0.        , 0.        , 0.        , 0.        ,\n",
       "        0.        , 0.        , 0.        , 0.        , 0.        ,\n",
       "        0.00583333, 0.        , 0.        , 0.        , 0.        ,\n",
       "        0.00333333, 0.        , 0.        , 0.        , 0.        ,\n",
       "        0.        , 0.        , 0.        , 0.        , 0.        ,\n",
       "        0.        , 0.        , 0.        , 0.        , 0.        ,\n",
       "        0.        , 0.        , 0.        , 0.        , 0.        ,\n",
       "        0.        , 0.        , 0.        , 0.        , 0.        ,\n",
       "        0.        , 0.        , 0.        , 0.00439394, 0.        ,\n",
       "        0.        , 0.00666667, 0.00166667, 0.        , 0.00416667,\n",
       "        0.        , 0.        , 0.        , 0.06206349, 0.        ,\n",
       "        0.        , 0.        , 0.        , 0.        , 0.        ,\n",
       "        0.        , 0.        , 0.        , 0.        , 0.        ,\n",
       "        0.        , 0.        , 0.        , 0.        , 0.        ,\n",
       "        0.        , 0.00392857, 0.        , 0.        , 0.        ,\n",
       "        0.        , 0.        , 0.        , 0.        , 0.        ,\n",
       "        0.        , 0.        , 0.01188889]])"
      ]
     },
     "execution_count": 27,
     "metadata": {},
     "output_type": "execute_result"
    }
   ],
   "source": [
    "y_prob = rfc.predict_proba(test_X)\n",
    "y_prob"
   ]
  },
  {
   "cell_type": "markdown",
   "metadata": {},
   "source": [
    "Something should jump out at you immediately, there shouldn't be any 0s in real probabilities! A zero or one can only occur in probability after an event has happened or after the true outcome is known. Rather than being real probabilities these can be viewed as probability weights which the algorithm assigns to each class based on how likely the algorithm feels a sample belongs to a certain class. A weight of 0 in this sense indicates the algorithm believes strongly the sample couldn't belong to that class\n",
    "\n",
    "## Confidence threshold\n",
    "Setting a minimum confidence threshold to accept a prediction as valid is an important step. There are several ways you can settle on a good threshold. \n",
    "First, examine the histogram of weights for each sample by plotting the results using the hist function.\n",
    "Here I use 3 subplots with a sared y axis so all three are directly comparable. I also use the tight_layout function to automatically space the plots to avoid overlapping."
   ]
  },
  {
   "cell_type": "code",
   "execution_count": 28,
   "metadata": {},
   "outputs": [
    {
     "data": {
      "image/png": "[encoded data removed]",
      "text/plain": [
       "<Figure size 432x288 with 3 Axes>"
      ]
     },
     "metadata": {
      "needs_background": "light"
     },
     "output_type": "display_data"
    }
   ],
   "source": [
    "fig, ax = plt.subplots(nrows=1, ncols=3, sharey=True)\n",
    "ax[0].set_ylabel(\"Class count\")\n",
    "ax[0].set_xlabel(\"Confidence\")\n",
    "ax[1].set_xlabel(\"Confidence\")\n",
    "ax[2].set_xlabel(\"Confidence\")\n",
    "ax[0].hist(y_prob[0])\n",
    "ax[1].hist(y_prob[1])\n",
    "ax[2].hist(y_prob[2])\n",
    "fig.tight_layout()\n",
    "plt.show()"
   ]
  },
  {
   "cell_type": "markdown",
   "metadata": {},
   "source": [
    "You can see the large majority of classes get 0.0 weight with only a few classes getting any weight at all, and one class getting the majority of the weight. Examining the plots, it appears we can set a confidence threshold somewhere around 0.30-0.35 and all the correct classifications would be kept while all the incorrect classes fall below this line. \n",
    "\n",
    "### A priori probability weight\n",
    "Including an estimate for the average weight is useful to show the base score each class would get, assuming they were all equally weighted. As you can see the predicted classes were all weighted extremely high compared to the average weight of all the non-zero classes. All the weights sum up to one so it is easy enough to calculate the a priori weight, assuming all the classes were to be weighted as equally probable, by dividing $\\frac{1.0}{n} $ where$\\ n $ is the number of classes in the data."
   ]
  },
  {
   "cell_type": "code",
   "execution_count": 29,
   "metadata": {},
   "outputs": [
    {
     "name": "stdout",
     "output_type": "stream",
     "text": [
      "average weight: 0.0045\n"
     ]
    }
   ],
   "source": [
    "print(\"average weight: %.4f\" % (1.0 / len(y_prob[0])))"
   ]
  },
  {
   "cell_type": "markdown",
   "metadata": {},
   "source": [
    "The more confident the algorithm is, the higher the probability weight will be compared to this naive assumption. In the histogram plots we saw that 0.3-0.35 might make a good threshold. The lower bound of this  is more than 66 times the a priori weight with the upper bound being more than 77 times."
   ]
  },
  {
   "cell_type": "markdown",
   "metadata": {},
   "source": [
    "### Confidence distribution\n",
    "Another approach is to compare the probability weight against the average score from only the classes which had a non-zero weight. This is similar to the previous measure in that we are dividing $\\frac{1.0}{n} $ but $\\ n $ is now the number of classes with non-zero weight."
   ]
  },
  {
   "cell_type": "code",
   "execution_count": 30,
   "metadata": {},
   "outputs": [
    {
     "name": "stdout",
     "output_type": "stream",
     "text": [
      "Non-zero class count: 8\n",
      "Adjusted average: 0.1250\n",
      "Non-zero class count: 11\n",
      "Adjusted average: 0.0909\n",
      "Non-zero class count: 25\n",
      "Adjusted average: 0.0400\n"
     ]
    }
   ],
   "source": [
    "nzc_set = []\n",
    "for pred_list in list(y_prob):\n",
    "    non_zero_classes = []\n",
    "    for i in range(0, len(pred_list)):\n",
    "        if pred_list[i] > 0:\n",
    "            non_zero_classes.append((i, pred_list[i]))\n",
    "    print(\"Non-zero class count: %d\" % len(non_zero_classes))\n",
    "    nzc_avg = 1.0/len(non_zero_classes)\n",
    "    print(\"Adjusted average: %.4f\" % nzc_avg)\n",
    "    nzc_set.append(non_zero_classes)"
   ]
  },
  {
   "cell_type": "markdown",
   "metadata": {},
   "source": [
    "You can see that adjusting the number of classes before averaging the weights has a drastic impact but the numbers are more realistic than the a priori measure because this looks at only the distribution among classes the algorithm. The lower the adjusted average, the higher the number of classes the algorithm thought were possible.\n",
    "\n",
    "The next cell loops over all of the predictions to find the highest weighted class in each and compares that against the threshold 0.35 "
   ]
  },
  {
   "cell_type": "code",
   "execution_count": 31,
   "metadata": {
    "hideCode": false,
    "hidePrompt": false
   },
   "outputs": [
    {
     "name": "stdout",
     "output_type": "stream",
     "text": [
      "average weight: 0.0045\n"
     ]
    },
    {
     "data": {
      "text/plain": [
       "[(82, 0.8246727994227995, True),\n",
       " (2, 0.4888091630591631, True),\n",
       " (138, 0.38649314574314575, True)]"
      ]
     },
     "execution_count": 31,
     "metadata": {},
     "output_type": "execute_result"
    }
   ],
   "source": [
    "thresh = 0.35\n",
    "pred_probs = []\n",
    "print(\"average weight: %.4f\" % (1.0 / len(y_prob[0])))\n",
    "for pred_list in list(y_prob):\n",
    "    confidence = 0\n",
    "    max_i = -1\n",
    "    for i in range(0, len(pred_list)):\n",
    "        if pred_list[i] > confidence:\n",
    "            confidence = pred_list[i]\n",
    "            max_i = i\n",
    "    pred_probs.append((max_i, confidence, confidence > thresh))\n",
    "pred_probs"
   ]
  },
  {
   "cell_type": "markdown",
   "metadata": {},
   "source": [
    "Of course, this method works better if you examine the weight variance among correct and incorrectly classified instance confidences. You can do this by using predict_proba when training the model on the initial data."
   ]
  },
  {
   "cell_type": "code",
   "execution_count": 33,
   "metadata": {},
   "outputs": [
    {
     "data": {
      "text/html": [
       "<div>\n",
       "<style scoped>\n",
       "    .dataframe tbody tr th:only-of-type {\n",
       "        vertical-align: middle;\n",
       "    }\n",
       "\n",
       "    .dataframe tbody tr th {\n",
       "        vertical-align: top;\n",
       "    }\n",
       "\n",
       "    .dataframe thead th {\n",
       "        text-align: right;\n",
       "    }\n",
       "</style>\n",
       "<table border=\"1\" class=\"dataframe\">\n",
       "  <thead>\n",
       "    <tr style=\"text-align: right;\">\n",
       "      <th></th>\n",
       "      <th>predicted</th>\n",
       "      <th>confidence</th>\n",
       "      <th>correct</th>\n",
       "      <th>above</th>\n",
       "    </tr>\n",
       "  </thead>\n",
       "  <tbody>\n",
       "    <tr>\n",
       "      <th>0</th>\n",
       "      <td>179</td>\n",
       "      <td>0.633147</td>\n",
       "      <td>True</td>\n",
       "      <td>True</td>\n",
       "    </tr>\n",
       "    <tr>\n",
       "      <th>1</th>\n",
       "      <td>215</td>\n",
       "      <td>0.239567</td>\n",
       "      <td>False</td>\n",
       "      <td>False</td>\n",
       "    </tr>\n",
       "    <tr>\n",
       "      <th>2</th>\n",
       "      <td>70</td>\n",
       "      <td>0.576778</td>\n",
       "      <td>False</td>\n",
       "      <td>True</td>\n",
       "    </tr>\n",
       "    <tr>\n",
       "      <th>3</th>\n",
       "      <td>81</td>\n",
       "      <td>0.560674</td>\n",
       "      <td>True</td>\n",
       "      <td>True</td>\n",
       "    </tr>\n",
       "    <tr>\n",
       "      <th>4</th>\n",
       "      <td>85</td>\n",
       "      <td>0.663302</td>\n",
       "      <td>True</td>\n",
       "      <td>True</td>\n",
       "    </tr>\n",
       "    <tr>\n",
       "      <th>...</th>\n",
       "      <td>...</td>\n",
       "      <td>...</td>\n",
       "      <td>...</td>\n",
       "      <td>...</td>\n",
       "    </tr>\n",
       "    <tr>\n",
       "      <th>406</th>\n",
       "      <td>30</td>\n",
       "      <td>0.890333</td>\n",
       "      <td>True</td>\n",
       "      <td>True</td>\n",
       "    </tr>\n",
       "    <tr>\n",
       "      <th>407</th>\n",
       "      <td>152</td>\n",
       "      <td>0.278409</td>\n",
       "      <td>False</td>\n",
       "      <td>False</td>\n",
       "    </tr>\n",
       "    <tr>\n",
       "      <th>408</th>\n",
       "      <td>204</td>\n",
       "      <td>0.836460</td>\n",
       "      <td>True</td>\n",
       "      <td>True</td>\n",
       "    </tr>\n",
       "    <tr>\n",
       "      <th>409</th>\n",
       "      <td>164</td>\n",
       "      <td>0.474944</td>\n",
       "      <td>True</td>\n",
       "      <td>True</td>\n",
       "    </tr>\n",
       "    <tr>\n",
       "      <th>410</th>\n",
       "      <td>89</td>\n",
       "      <td>0.563266</td>\n",
       "      <td>True</td>\n",
       "      <td>True</td>\n",
       "    </tr>\n",
       "  </tbody>\n",
       "</table>\n",
       "<p>411 rows × 4 columns</p>\n",
       "</div>"
      ],
      "text/plain": [
       "     predicted  confidence  correct  above\n",
       "0          179    0.633147     True   True\n",
       "1          215    0.239567    False  False\n",
       "2           70    0.576778    False   True\n",
       "3           81    0.560674     True   True\n",
       "4           85    0.663302     True   True\n",
       "..         ...         ...      ...    ...\n",
       "406         30    0.890333     True   True\n",
       "407        152    0.278409    False  False\n",
       "408        204    0.836460     True   True\n",
       "409        164    0.474944     True   True\n",
       "410         89    0.563266     True   True\n",
       "\n",
       "[411 rows x 4 columns]"
      ]
     },
     "execution_count": 33,
     "metadata": {},
     "output_type": "execute_result"
    }
   ],
   "source": [
    "X = faces_df[reduced_key_features]\n",
    "y = faces_df[\"category\"]\n",
    "X_train, X_test, y_train, y_test = train_test_split(X, y, test_size=0.10, random_state=42)\n",
    "rfc = RandomForestClassifier(n_estimators=100, min_samples_split=5, min_samples_leaf=3)\n",
    "rfc.fit(X_train, y_train)\n",
    "y_prob = rfc.predict_proba(X_test)\n",
    "pred_probs = []\n",
    "non_zero_confs = []\n",
    "for i in range(len(list(y_prob))):\n",
    "    pred_list = y_prob[i]\n",
    "    confidence = 0\n",
    "    max_i = -1\n",
    "    for j in range(0, len(pred_list)):\n",
    "        if pred_list[j] > 0:\n",
    "            non_zero_confs.append(pred_list[j])\n",
    "        if pred_list[j] > confidence:\n",
    "            confidence = pred_list[j]\n",
    "            max_i = j\n",
    "    pred_probs.append({\n",
    "        \"predicted\": max_i,\n",
    "        \"confidence\": confidence,\n",
    "        \"correct\": max_i == list(y_test)[i]\n",
    "    })\n",
    "\n",
    "prob_df = pd.DataFrame(pred_probs)\n",
    "prob_df[\"above\"] = prob_df[\"confidence\"].apply(lambda x: x>0.35)\n",
    "prob_df"
   ]
  },
  {
   "cell_type": "code",
   "execution_count": 34,
   "metadata": {},
   "outputs": [
    {
     "data": {
      "image/png": "[encoded data removed]",
      "text/plain": [
       "<Figure size 432x288 with 4 Axes>"
      ]
     },
     "metadata": {
      "needs_background": "light"
     },
     "output_type": "display_data"
    }
   ],
   "source": [
    "accepted_positives = prob_df[(prob_df[\"correct\"] == True) & (prob_df[\"above\"] == True)]\n",
    "accepted_negatives = prob_df[(prob_df[\"correct\"] == False) & (prob_df[\"above\"] == True)]\n",
    "rejected_positives = prob_df[(prob_df[\"correct\"] == True) & (prob_df[\"above\"] == False)]\n",
    "rejected_negatives = prob_df[(prob_df[\"correct\"] == False) & (prob_df[\"above\"] == False)]\n",
    "fig, ax = plt.subplots(nrows=2,ncols=2,sharey=True)\n",
    "ax[0][0].hist(accepted_positives[\"confidence\"])\n",
    "ax[0][0].set_title(\"Accepted correct: %.4f\" % (len(list(accepted_positives.index))/len(list(prob_df.index))))\n",
    "ax[0][1].hist(accepted_negatives[\"confidence\"])\n",
    "ax[0][1].set_title(\"Accepted incorrect: %.4f\" % (len(list(accepted_negatives.index))/len(list(prob_df.index))))\n",
    "ax[1][0].hist(rejected_positives[\"confidence\"])\n",
    "ax[1][0].set_title(\"Rejected correct: %.4f\" % (len(list(rejected_positives.index))/len(list(prob_df.index))))\n",
    "ax[1][1].hist(rejected_negatives[\"confidence\"])\n",
    "ax[1][1].set_title(\"Rejected incorrect: %.4f\" % (len(list(rejected_negatives.index))/len(list(prob_df.index))))\n",
    "plt.title == \"Confidence distributions\"\n",
    "plt.tight_layout()\n",
    "plt.show()"
   ]
  },
  {
   "cell_type": "markdown",
   "metadata": {
    "hideCode": false,
    "hidePrompt": false
   },
   "source": [
    "Accepted correct represents rows which the algorithm predicted correctly and had a high enough confidence to meet the threshold set. Accepted incorrect are the samples which the algorithm go wrong but was confident enough in it's prediction to meet the threshold. These are the ones we want to minimize as much as possible. Rejected correct are samples which the algorithm predicted correctly but was not confident enough in to meet the threshold. Finally rejected incorrect are rows that the algorithm incorrectly predicted but was not confident in the incorrect decision. It's a good thing for incorrect predictions to have a low weight so they get dismissed.The performance of the threshold can be seen as the combination of the accepted correct and the rejected incorrect rows. In this case close to 79% of the test data was correctly handled by the threshold\n",
    "\n",
    "# Automated Parameter selection\n",
    "The next cell shows how to automatically find the best configuration from a list of potential configurations for a classifier using the GridSearchCV class. You define a list of classifiers and parameter values to test in a dictionary."
   ]
  },
  {
   "cell_type": "code",
   "execution_count": 35,
   "metadata": {
    "hideCode": false,
    "hidePrompt": false
   },
   "outputs": [
    {
     "name": "stdout",
     "output_type": "stream",
     "text": [
      "{'n_estimators': [20, 40, 60, 80, 100, 120, 140], 'max_depth': [10, 21, 32, 43, 54, 65, 76, 87, 98, 109, None], 'min_samples_split': [2, 5, 10], 'min_samples_leaf': [1, 2, 3], 'bootstrap': [True, False]}\n",
      "1386 classifiers\n",
      "6930 trainings\n"
     ]
    }
   ],
   "source": [
    "from sklearn.model_selection import GridSearchCV\n",
    "n_estimators = [x for x in range(20, 150, 20)] # Trees in the forest\n",
    "max_depth = [x for x in range(10, 110, 11)] # Max levels in any tree\n",
    "max_depth.append(None)\n",
    "min_split = [2, 5, 10] # Min samples required to consider a split\n",
    "min_leaf = [1, 2, 3] # Min samples required to consider a leaf\n",
    "bootstrap = [True, False] # whether or not to randomize samples\n",
    "params_grid = {'n_estimators': n_estimators,\n",
    "               'max_depth': max_depth,\n",
    "               'min_samples_split': min_split,\n",
    "               'min_samples_leaf': min_leaf,\n",
    "               'bootstrap': bootstrap}\n",
    "print(params_grid)\n",
    "lens = [len(v) for k,v in params_grid.items()]\n",
    "tot = lens[0]\n",
    "# You can manualy calculate the number of training cycles\n",
    "# by multiplying the lengths of each parameter list\n",
    "# then multiplying that by the number of cross-folds\n",
    "for v in lens[1:]:\n",
    "    tot = tot*v\n",
    "print(\"%d classifiers\" % tot)\n",
    "print(\"%d trainings\" % (tot*5))"
   ]
  },
  {
   "cell_type": "markdown",
   "metadata": {},
   "source": [
    "You then fit the GridSearch object the way you would any normal classifier. The difference is the GridSearchCV algorithm creates a classifier of the type you define for each possible combination of parameters from the parameter grid and runs cross-fold (default 5-fold) validation on each. "
   ]
  },
  {
   "cell_type": "code",
   "execution_count": 36,
   "metadata": {},
   "outputs": [
    {
     "name": "stdout",
     "output_type": "stream",
     "text": [
      "Fitting 5 folds for each of 1386 candidates, totalling 6930 fits\n"
     ]
    },
    {
     "name": "stderr",
     "output_type": "stream",
     "text": [
      "/home/dreilly/anaconda3/envs/researchenv/lib/python3.7/site-packages/joblib/externals/loky/process_executor.py:691: UserWarning: A worker stopped while some jobs were given to the executor. This can be caused by a too short worker timeout or by a memory leak.\n",
      "  \"timeout or by a memory leak.\", UserWarning\n"
     ]
    },
    {
     "data": {
      "text/plain": [
       "GridSearchCV(estimator=RandomForestClassifier(), n_jobs=-1,\n",
       "             param_grid={'bootstrap': [True, False],\n",
       "                         'max_depth': [10, 21, 32, 43, 54, 65, 76, 87, 98, 109,\n",
       "                                       None],\n",
       "                         'min_samples_leaf': [1, 2, 3],\n",
       "                         'min_samples_split': [2, 5, 10],\n",
       "                         'n_estimators': [20, 40, 60, 80, 100, 120, 140]},\n",
       "             refit=False, verbose=2)"
      ]
     },
     "execution_count": 36,
     "metadata": {},
     "output_type": "execute_result"
    }
   ],
   "source": [
    "X_train, X_test, y_train, y_test = train_test_split(X, y, test_size=0.10, random_state=42)\n",
    "rfc = RandomForestClassifier()\n",
    "grid_search = GridSearchCV(\n",
    "    estimator=rfc, \n",
    "    param_grid=params_grid,\n",
    "    verbose=2,\n",
    "    n_jobs = -1,\n",
    "    refit=False\n",
    ")\n",
    "grid_search.fit(X_train, y_train)"
   ]
  },
  {
   "cell_type": "markdown",
   "metadata": {},
   "source": [
    "After the jobs finish (which can take a long time depending on how many processing cores your machine has) you can print the best settings found from all the combinations."
   ]
  },
  {
   "cell_type": "code",
   "execution_count": 109,
   "metadata": {},
   "outputs": [
    {
     "data": {
      "text/plain": [
       "{'bootstrap': True,\n",
       " 'max_depth': 76,\n",
       " 'min_samples_leaf': 1,\n",
       " 'min_samples_split': 2,\n",
       " 'n_estimators': 100}"
      ]
     },
     "execution_count": 109,
     "metadata": {},
     "output_type": "execute_result"
    }
   ],
   "source": [
    "grid_search.best_params_"
   ]
  },
  {
   "cell_type": "markdown",
   "metadata": {},
   "source": [
    "You can also print the score for the best classifier"
   ]
  },
  {
   "cell_type": "code",
   "execution_count": 110,
   "metadata": {},
   "outputs": [
    {
     "data": {
      "text/plain": [
       "0.7849148160758648"
      ]
     },
     "execution_count": 110,
     "metadata": {},
     "output_type": "execute_result"
    }
   ],
   "source": [
    "grid_search.best_score_"
   ]
  },
  {
   "cell_type": "markdown",
   "metadata": {},
   "source": [
    "A somewhat faster, but less thorough, way is to use RandomizedSearchCV instead. The basic idea is the same, except that random search creates a fixed number of classifiers $ (n\\_iter * cv) $ with parameters randomly selected from the set of possible options. "
   ]
  },
  {
   "cell_type": "code",
   "execution_count": 113,
   "metadata": {},
   "outputs": [
    {
     "name": "stdout",
     "output_type": "stream",
     "text": [
      "Fitting 5 folds for each of 50 candidates, totalling 250 fits\n"
     ]
    },
    {
     "name": "stderr",
     "output_type": "stream",
     "text": [
      "[Parallel(n_jobs=-1)]: Using backend LokyBackend with 4 concurrent workers.\n",
      "[Parallel(n_jobs=-1)]: Done  33 tasks      | elapsed:   19.3s\n",
      "[Parallel(n_jobs=-1)]: Done 154 tasks      | elapsed:  1.2min\n",
      "[Parallel(n_jobs=-1)]: Done 250 out of 250 | elapsed:  1.9min finished\n"
     ]
    },
    {
     "data": {
      "text/plain": [
       "RandomizedSearchCV(cv=5, estimator=RandomForestClassifier(), n_iter=50,\n",
       "                   n_jobs=-1,\n",
       "                   param_distributions={'bootstrap': [True, False],\n",
       "                                        'max_depth': [10, 21, 32, 43, 54, 65,\n",
       "                                                      76, 87, 98, 109, None],\n",
       "                                        'min_samples_leaf': [1, 2, 3],\n",
       "                                        'min_samples_split': [2, 5, 10],\n",
       "                                        'n_estimators': [20, 40, 60, 80, 100,\n",
       "                                                         120, 140]},\n",
       "                   random_state=42, verbose=2)"
      ]
     },
     "execution_count": 113,
     "metadata": {},
     "output_type": "execute_result"
    }
   ],
   "source": [
    "from sklearn.model_selection import RandomizedSearchCV\n",
    "rfc = RandomForestClassifier()\n",
    "rf_search = RandomizedSearchCV(\n",
    "    estimator = rfc, \n",
    "    param_distributions = params_grid,\n",
    "    n_iter = 50,\n",
    "    cv = 5,\n",
    "    verbose=2,\n",
    "    random_state=42,\n",
    "    n_jobs = -1\n",
    ")\n",
    "rf_search.fit(X_train, y_train)"
   ]
  },
  {
   "cell_type": "code",
   "execution_count": 115,
   "metadata": {},
   "outputs": [
    {
     "data": {
      "text/plain": [
       "{'n_estimators': 100,\n",
       " 'min_samples_split': 2,\n",
       " 'min_samples_leaf': 1,\n",
       " 'max_depth': 21,\n",
       " 'bootstrap': True}"
      ]
     },
     "execution_count": 115,
     "metadata": {},
     "output_type": "execute_result"
    }
   ],
   "source": [
    "rf_search.best_params_"
   ]
  },
  {
   "cell_type": "code",
   "execution_count": 116,
   "metadata": {},
   "outputs": [
    {
     "data": {
      "text/plain": [
       "0.7647183539279142"
      ]
     },
     "execution_count": 116,
     "metadata": {},
     "output_type": "execute_result"
    }
   ],
   "source": [
    "rf_search.best_score_"
   ]
  }
 ],
 "metadata": {
  "celltoolbar": "Hide code",
  "hide_code_all_hidden": false,
  "hide_input": false,
  "kernelspec": {
   "display_name": "Python 3",
   "language": "python",
   "name": "python3"
  },
  "language_info": {
   "codemirror_mode": {
    "name": "ipython",
    "version": 3
   },
   "file_extension": ".py",
   "mimetype": "text/x-python",
   "name": "python",
   "nbconvert_exporter": "python",
   "pygments_lexer": "ipython3",
   "version": "3.7.7"
  }
 },
 "nbformat": 4,
 "nbformat_minor": 2
}
